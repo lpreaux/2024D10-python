{
 "cells": [
  {
   "cell_type": "markdown",
   "metadata": {},
   "source": [
    "## Les variables"
   ],
   "id": "508b1e52474360f7"
  },
  {
   "cell_type": "markdown",
   "metadata": {},
   "source": [
    "#### Déclaration des variables\n",
    "Une des caractéristiques principales de Python est le **typage dynamique** qui permet de déclarer une variable sans lui attribuer de type, et de modifier ce type à volonté.\n",
    "On attribue une valeur à une variable via le symbole **=**. Il peut être lu comme \"prend la valeur\"."
   ],
   "id": "32535371fc10106a"
  },
  {
   "cell_type": "code",
   "metadata": {
    "ExecuteTime": {
     "end_time": "2025-01-21T08:55:46.147315Z",
     "start_time": "2025-01-21T08:55:46.126519Z"
    }
   },
   "source": [
    "x = 3  # x prend la valeur 3\n",
    "x # dans un notebook jupyter seulement (extension .ipynb), vous pouvez afficher la dernier variable appeler sans le print)"
   ],
   "id": "620ad0fb80a865f3",
   "outputs": [
    {
     "data": {
      "text/plain": [
       "3"
      ]
     },
     "execution_count": 1,
     "metadata": {},
     "output_type": "execute_result"
    }
   ],
   "execution_count": 1
  },
  {
   "cell_type": "code",
   "metadata": {
    "ExecuteTime": {
     "end_time": "2025-01-21T08:56:06.931366Z",
     "start_time": "2025-01-21T08:56:06.923147Z"
    }
   },
   "source": [
    "ma_variable1 = 50\n",
    "print(ma_variable1) # dans un fichier .py classique, vous devez appeler la fonction print. print() fonctionne comme n'importe quel morceau de code python dans un jupyter notebook."
   ],
   "id": "dbc91d51a0a4318c",
   "outputs": [
    {
     "name": "stdout",
     "output_type": "stream",
     "text": [
      "50\n"
     ]
    }
   ],
   "execution_count": 2
  },
  {
   "cell_type": "markdown",
   "metadata": {},
   "source": [
    "Si une même variable peut changer de type au fur et à mesure d'un programme, les types de variables sont eux bien définis. On peut obtenir le type d'une variable en utilisant la fonction **type()**."
   ],
   "id": "143884fe466401fe"
  },
  {
   "cell_type": "code",
   "metadata": {
    "scrolled": true,
    "ExecuteTime": {
     "end_time": "2025-01-21T08:56:21.971942Z",
     "start_time": "2025-01-21T08:56:21.965292Z"
    }
   },
   "source": [
    "x = 3\n",
    "y = x + x  # x est un int: un nombre entier\n",
    "y"
   ],
   "id": "a44102e742dab9ec",
   "outputs": [
    {
     "data": {
      "text/plain": [
       "6"
      ]
     },
     "execution_count": 3,
     "metadata": {},
     "output_type": "execute_result"
    }
   ],
   "execution_count": 3
  },
  {
   "cell_type": "code",
   "id": "64e667ae",
   "metadata": {
    "ExecuteTime": {
     "end_time": "2025-01-21T08:57:12.919291Z",
     "start_time": "2025-01-21T08:57:12.911316Z"
    }
   },
   "source": [
    "x = str(x)\n",
    "y = x + x # additionner des chaine de caractère 'str'\n",
    "y"
   ],
   "outputs": [
    {
     "data": {
      "text/plain": [
       "'33'"
      ]
     },
     "execution_count": 5,
     "metadata": {},
     "output_type": "execute_result"
    }
   ],
   "execution_count": 5
  },
  {
   "cell_type": "code",
   "metadata": {
    "ExecuteTime": {
     "end_time": "2025-01-21T08:58:04.104799Z",
     "start_time": "2025-01-21T08:58:04.098308Z"
    }
   },
   "source": [
    "x = 3.1\n",
    "type(x)  # x est un float: un nombre décimal"
   ],
   "id": "5acbb2589eeea450",
   "outputs": [
    {
     "data": {
      "text/plain": [
       "float"
      ]
     },
     "execution_count": 6,
     "metadata": {},
     "output_type": "execute_result"
    }
   ],
   "execution_count": 6
  },
  {
   "cell_type": "code",
   "metadata": {
    "ExecuteTime": {
     "end_time": "2025-01-21T08:58:06.688609Z",
     "start_time": "2025-01-21T08:58:06.681370Z"
    }
   },
   "source": [
    "x = 'Hello world!'\n",
    "type(x)  # x est un str: une chaine de caractères"
   ],
   "id": "ec0545420886fe8a",
   "outputs": [
    {
     "data": {
      "text/plain": [
       "str"
      ]
     },
     "execution_count": 7,
     "metadata": {},
     "output_type": "execute_result"
    }
   ],
   "execution_count": 7
  },
  {
   "cell_type": "code",
   "metadata": {
    "ExecuteTime": {
     "end_time": "2025-01-21T08:58:08.742931Z",
     "start_time": "2025-01-21T08:58:08.736913Z"
    }
   },
   "source": [
    "x = False\n",
    "type(x)  # x est un bool: un booléen (vrai / faux)"
   ],
   "id": "11760edfd3eef75d",
   "outputs": [
    {
     "data": {
      "text/plain": [
       "bool"
      ]
     },
     "execution_count": 8,
     "metadata": {},
     "output_type": "execute_result"
    }
   ],
   "execution_count": 8
  },
  {
   "cell_type": "markdown",
   "metadata": {},
   "source": [
    "#### Opérateurs\n",
    "Les opérateurs les plus utilisés en Python avec les chiffres sont :\n",
    "- `+` pour l'addition\n",
    "- `-` pour la soustraction\n",
    "- `*` pour la multiplication\n",
    "- `**` pour la puissance\n",
    "- `%` pour le reste de la division\n",
    "- `/` pour la division"
   ],
   "id": "9cecefef24815a77"
  },
  {
   "cell_type": "code",
   "metadata": {
    "ExecuteTime": {
     "end_time": "2025-01-21T08:58:14.131024Z",
     "start_time": "2025-01-21T08:58:14.122465Z"
    }
   },
   "source": [
    "a = 6 + 3 * 4 + 2\n",
    "print(a) # le resultat est stocké dans une variable a"
   ],
   "id": "36d8c54faf475c3b",
   "outputs": [
    {
     "name": "stdout",
     "output_type": "stream",
     "text": [
      "20\n"
     ]
    }
   ],
   "execution_count": 9
  },
  {
   "cell_type": "code",
   "metadata": {
    "ExecuteTime": {
     "end_time": "2025-01-21T08:58:15.598984Z",
     "start_time": "2025-01-21T08:58:15.589780Z"
    }
   },
   "source": [
    "2 ** 3"
   ],
   "id": "61f5e70afae2fd98",
   "outputs": [
    {
     "data": {
      "text/plain": [
       "8"
      ]
     },
     "execution_count": 10,
     "metadata": {},
     "output_type": "execute_result"
    }
   ],
   "execution_count": 10
  },
  {
   "cell_type": "code",
   "metadata": {
    "scrolled": true,
    "ExecuteTime": {
     "end_time": "2025-01-21T08:58:23.258307Z",
     "start_time": "2025-01-21T08:58:23.247682Z"
    }
   },
   "source": [
    "x = 3 + 4\n",
    "x"
   ],
   "id": "59e844dfb1efb4db",
   "outputs": [
    {
     "data": {
      "text/plain": [
       "7"
      ]
     },
     "execution_count": 11,
     "metadata": {},
     "output_type": "execute_result"
    }
   ],
   "execution_count": 11
  },
  {
   "cell_type": "markdown",
   "metadata": {},
   "source": [
    "L'opérateur % (\"modulo\") permet d'obtenir le reste de la division."
   ],
   "id": "2f4738d499631cb7"
  },
  {
   "cell_type": "code",
   "metadata": {
    "ExecuteTime": {
     "end_time": "2025-01-21T08:58:26.292919Z",
     "start_time": "2025-01-21T08:58:26.285982Z"
    }
   },
   "source": [
    "8%3"
   ],
   "id": "d0e0b896b51b1bcb",
   "outputs": [
    {
     "data": {
      "text/plain": [
       "2"
      ]
     },
     "execution_count": 12,
     "metadata": {},
     "output_type": "execute_result"
    }
   ],
   "execution_count": 12
  },
  {
   "cell_type": "code",
   "metadata": {
    "ExecuteTime": {
     "end_time": "2025-01-21T08:58:27.665999Z",
     "start_time": "2025-01-21T08:58:27.657549Z"
    }
   },
   "source": [
    "6%3"
   ],
   "id": "93ae22f9991be469",
   "outputs": [
    {
     "data": {
      "text/plain": [
       "0"
      ]
     },
     "execution_count": 13,
     "metadata": {},
     "output_type": "execute_result"
    }
   ],
   "execution_count": 13
  },
  {
   "cell_type": "markdown",
   "metadata": {},
   "source": [
    "Les opérateurs ont des effets différents selon les types de variables utilisées."
   ],
   "id": "a40184081fd7cb8c"
  },
  {
   "cell_type": "code",
   "metadata": {
    "ExecuteTime": {
     "end_time": "2025-01-21T08:58:31.191687Z",
     "start_time": "2025-01-21T08:58:31.179846Z"
    }
   },
   "source": [
    "'Hello ' + 'world!'"
   ],
   "id": "fffc71efbdcc87a1",
   "outputs": [
    {
     "data": {
      "text/plain": [
       "'Hello world!'"
      ]
     },
     "execution_count": 14,
     "metadata": {},
     "output_type": "execute_result"
    }
   ],
   "execution_count": 14
  },
  {
   "cell_type": "code",
   "metadata": {
    "ExecuteTime": {
     "end_time": "2025-01-21T08:58:33.207877Z",
     "start_time": "2025-01-21T08:58:33.201285Z"
    }
   },
   "source": [
    "'hello_' * 4"
   ],
   "id": "5c4a1fec331f8c6f",
   "outputs": [
    {
     "data": {
      "text/plain": [
       "'hello_hello_hello_hello_'"
      ]
     },
     "execution_count": 15,
     "metadata": {},
     "output_type": "execute_result"
    }
   ],
   "execution_count": 15
  },
  {
   "cell_type": "markdown",
   "metadata": {},
   "source": [
    "Il est possible de **convertir** une variable d'un type en un autre type :"
   ],
   "id": "f80905b48703cdb8"
  },
  {
   "cell_type": "code",
   "metadata": {
    "scrolled": true,
    "ExecuteTime": {
     "end_time": "2025-01-21T08:58:52.711997Z",
     "start_time": "2025-01-21T08:58:52.705374Z"
    }
   },
   "source": [
    "a = '4'\n",
    "type(a)"
   ],
   "id": "4c46d52adcc8a29b",
   "outputs": [
    {
     "data": {
      "text/plain": [
       "str"
      ]
     },
     "execution_count": 16,
     "metadata": {},
     "output_type": "execute_result"
    }
   ],
   "execution_count": 16
  },
  {
   "cell_type": "code",
   "metadata": {
    "ExecuteTime": {
     "end_time": "2025-01-21T08:58:59.468774Z",
     "start_time": "2025-01-21T08:58:59.464782Z"
    }
   },
   "source": [
    "a = int(a)"
   ],
   "id": "60129bd57f88fd7c",
   "outputs": [],
   "execution_count": 17
  },
  {
   "cell_type": "code",
   "metadata": {
    "ExecuteTime": {
     "end_time": "2025-01-21T08:59:02.200706Z",
     "start_time": "2025-01-21T08:59:02.193735Z"
    }
   },
   "source": [
    "type(a)"
   ],
   "id": "1875e116bcb7a470",
   "outputs": [
    {
     "data": {
      "text/plain": [
       "int"
      ]
     },
     "execution_count": 18,
     "metadata": {},
     "output_type": "execute_result"
    }
   ],
   "execution_count": 18
  },
  {
   "cell_type": "code",
   "metadata": {
    "ExecuteTime": {
     "end_time": "2025-01-21T08:59:03.863679Z",
     "start_time": "2025-01-21T08:59:03.857380Z"
    }
   },
   "source": [
    "int(\"39\")"
   ],
   "id": "64a4366ff0766566",
   "outputs": [
    {
     "data": {
      "text/plain": [
       "39"
      ]
     },
     "execution_count": 19,
     "metadata": {},
     "output_type": "execute_result"
    }
   ],
   "execution_count": 19
  },
  {
   "cell_type": "code",
   "metadata": {
    "ExecuteTime": {
     "end_time": "2025-01-21T08:59:06.538259Z",
     "start_time": "2025-01-21T08:59:06.528973Z"
    }
   },
   "source": [
    "str(45)"
   ],
   "id": "cdee08f70a4aaea9",
   "outputs": [
    {
     "data": {
      "text/plain": [
       "'45'"
      ]
     },
     "execution_count": 20,
     "metadata": {},
     "output_type": "execute_result"
    }
   ],
   "execution_count": 20
  },
  {
   "cell_type": "code",
   "metadata": {
    "ExecuteTime": {
     "end_time": "2025-01-21T08:59:11.530039Z",
     "start_time": "2025-01-21T08:59:11.523935Z"
    }
   },
   "source": [
    "\"56\"*3"
   ],
   "id": "242ec8153c97ad62",
   "outputs": [
    {
     "data": {
      "text/plain": [
       "'565656'"
      ]
     },
     "execution_count": 21,
     "metadata": {},
     "output_type": "execute_result"
    }
   ],
   "execution_count": 21
  },
  {
   "cell_type": "code",
   "metadata": {
    "ExecuteTime": {
     "end_time": "2025-01-21T08:59:14.964162Z",
     "start_time": "2025-01-21T08:59:14.956132Z"
    }
   },
   "source": [
    "int(\"56\")*3"
   ],
   "id": "279b645e0d5f3c21",
   "outputs": [
    {
     "data": {
      "text/plain": [
       "168"
      ]
     },
     "execution_count": 22,
     "metadata": {},
     "output_type": "execute_result"
    }
   ],
   "execution_count": 22
  },
  {
   "cell_type": "markdown",
   "metadata": {},
   "source": [
    "#### <span style=\"color: green\">Exercice sur les variables</span>"
   ],
   "id": "24fdf246e0e5f49a"
  },
  {
   "cell_type": "markdown",
   "metadata": {},
   "source": [
    "Utilisez des variables pour **calculer** et **afficher** la circonférence de la terre à partir de son rayon.\n",
    "\n",
    "Formule de la circonférence : $C = 2 \\pi r$\n",
    "\n",
    "Conseils : commencez par stocker la valeur approximative de pi (**3.141592**) dans une variable. Ensuite, stockez la valeur du rayon de la Terre (**6 378km**) dans une seconde variable. Finalement, déclarez une troisième variable en applicant la formule aux deux variables précédentes."
   ],
   "id": "cdacf7dcd37265ec"
  },
  {
   "cell_type": "code",
   "metadata": {
    "ExecuteTime": {
     "end_time": "2025-01-21T09:04:12.302465Z",
     "start_time": "2025-01-21T09:04:12.295861Z"
    }
   },
   "source": [
    "# votre code ici\n",
    "pi = 3.141592\n",
    "rayon_terre = 6378\n",
    "\n",
    "circonference_terre = 2 * pi * rayon_terre\n",
    "circonference_terre"
   ],
   "id": "38609b95f8a29ffd",
   "outputs": [
    {
     "data": {
      "text/plain": [
       "40074.147552"
      ]
     },
     "execution_count": 24,
     "metadata": {},
     "output_type": "execute_result"
    }
   ],
   "execution_count": 24
  }
 ],
 "metadata": {
  "kernelspec": {
   "display_name": "Python 3",
   "language": "python",
   "name": "python3"
  },
  "language_info": {
   "codemirror_mode": {
    "name": "ipython",
    "version": 3
   },
   "file_extension": ".py",
   "mimetype": "text/x-python",
   "name": "python",
   "nbconvert_exporter": "python",
   "pygments_lexer": "ipython3",
   "version": "3.10.9"
  },
  "vscode": {
   "interpreter": {
    "hash": "369f2c481f4da34e4445cda3fffd2e751bd1c4d706f27375911949ba6bb62e1c"
   }
  }
 },
 "nbformat": 4,
 "nbformat_minor": 5
}
