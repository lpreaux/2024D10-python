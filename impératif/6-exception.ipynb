{
 "cells": [
  {
   "cell_type": "markdown",
   "metadata": {},
   "source": [
    "### Les gestions d'exceptions"
   ],
   "id": "1d7e7079ac2b3e39"
  },
  {
   "cell_type": "markdown",
   "metadata": {},
   "source": [
    "La gestion des exceptions en Python est un mécanisme pour **intercepter les erreurs d'exécution et les traiter**, permettant ainsi à votre programme de réagir de manière appropriée aux différentes situations d'erreur sans s'arrêter brusquement.\n",
    "\n",
    "Les **exceptions sont des événements qui peuvent modifier le flux normal** du programme, souvent en réponse à une erreur.\n",
    "\n",
    "Si vous ne gérer pas bien les exceptions sur un script, cela peut avoir la conséquence **l'arrêt total du script**."
   ],
   "id": "80e6a2a280297207"
  },
  {
   "cell_type": "markdown",
   "id": "f106df03",
   "metadata": {},
   "source": [
    "#### Les concepts clefs"
   ]
  },
  {
   "cell_type": "markdown",
   "id": "cc8b85c3",
   "metadata": {},
   "source": [
    "- **Exception**: Une erreur détectée pendant l'exécution. Toutes les exceptions sont des instances d'une classe qui dérive de BaseException.\n",
    "\n",
    "- **Lancer une exception**: L'opération qui consiste à \"lever\" une exception (utilisation du mot-clé raise).\n",
    "\n",
    "- **Bloc try**: Le code susceptible de lever une exception est placé dans un bloc try.\n",
    "\n",
    "- **Bloc except**: Après un bloc try, un ou plusieurs blocs except capturent et traitent les exceptions levées.\n",
    "\n",
    "- **Bloc else**: (Optionnel) Un bloc qui, s'il est présent, doit être placé après tous les blocs except. Le code qu'il contient est exécuté si le bloc try ne lève pas d'exception.\n",
    "\n",
    "- **Bloc finally**: (Optionnel) Un bloc exécuté à la fin de la séquence try-except, qu'une exception ait été levée ou non. Utile pour des actions de nettoyage."
   ]
  },
  {
   "cell_type": "markdown",
   "id": "f1796df7",
   "metadata": {},
   "source": [
    "#### Exemple de syntaxe"
   ]
  },
  {
   "cell_type": "code",
   "metadata": {
    "ExecuteTime": {
     "end_time": "2025-01-21T11:44:57.698800Z",
     "start_time": "2025-01-21T11:44:53.749549Z"
    }
   },
   "source": [
    "try:\n",
    "    # Code qui peut lever une exception\n",
    "    # on ne contrôle pas l'entrée de l'utilisateur.\n",
    "    # input() permet de rentrer une donnée par l'utilisateur.\n",
    "    x = int(input(\"Entrez un nombre: \"))\n",
    "    inverse = 1 / x\n",
    "except ValueError:\n",
    "    # capture un type d'exception en particulier (ValueError ici)\n",
    "    print(\"Ce n'est pas un nombre valide.\")\n",
    "except ZeroDivisionError:\n",
    "    # capture un type d'exception en particulier (ZeroDivisionError ici)\n",
    "    print(\"L'infini n'est pas une option ici.\")\n",
    "except Exception as e:\n",
    "    # capture TOUS type d'exeception possible (à placer en fin)\n",
    "    print(f\"Erreur inattendue: {e}\")\n",
    "else:\n",
    "    # executer si le bloc try est correct\n",
    "    print(f\"L'inverse de {x} est {inverse}\")\n",
    "finally:\n",
    "    # toujours executé !\n",
    "    print(\"Exécution terminée.\")"
   ],
   "id": "95b92781ee0ac70c",
   "outputs": [
    {
     "name": "stdout",
     "output_type": "stream",
     "text": [
      "L'infini n'est pas une option ici.\n",
      "Exécution terminée.\n"
     ]
    }
   ],
   "execution_count": 4
  },
  {
   "cell_type": "markdown",
   "id": "d47c33aa",
   "metadata": {},
   "source": [
    "Dans cet exemple :\n",
    "\n",
    "- Si l'utilisateur n'entre pas un nombre valide, une ValueError est levée et capturée.\n",
    "\n",
    "- Si l'utilisateur entre zéro, une ZeroDivisionError est levée, car on ne peut pas diviser par zéro.\n",
    "\n",
    "- Toute autre exception non anticipée est capturée par le except Exception as e.\n",
    "\n",
    "- Si aucune exception n'est levée, le bloc else s'exécute, affichant l'inverse du nombre.\n",
    "\n",
    "- Peu importe ce qui se passe, le bloc finally s'exécute, indiquant que l'exécution du bloc try-except est terminée."
   ]
  },
  {
   "cell_type": "markdown",
   "id": "89dde3b3",
   "metadata": {},
   "source": [
    "#### Quand utiliser le bloc try-except ?"
   ]
  },
  {
   "cell_type": "markdown",
   "id": "444a7cf8",
   "metadata": {},
   "source": [
    "Dès lors que vous avez un **doute sur l'execution potentielle** d'une partie du code, vous devez l'utiliser.\n",
    "\n",
    "Il est également utile lorsque vous souhaitez **gérer des erreurs** que vous allez surement rencontrer.\n",
    "\n",
    "Si vous n'êtes pas sur des erreur, utiliser l'exeption commune **\"Exception\"**, commedans l'exemple ci dessous."
   ]
  },
  {
   "cell_type": "code",
   "execution_count": null,
   "id": "ddd6f6b5",
   "metadata": {},
   "outputs": [],
   "source": [
    "try:\n",
    "    x = 3\n",
    "    y = 'h'\n",
    "    z = x + y\n",
    "except Exception as e:\n",
    "    print(f\"Il y a eu une erreur. detail: {e}\")"
   ]
  },
  {
   "cell_type": "markdown",
   "id": "24450068",
   "metadata": {},
   "source": [
    "#### <span style=\"color: green\">Exercice sur les gestion d'exception</span>"
   ]
  },
  {
   "cell_type": "markdown",
   "id": "2cd182a3",
   "metadata": {},
   "source": [
    "Voici un dictionnaire et une liste.\n",
    "\n",
    "Vous devez parcourir la liste, et tenter d'acceder à l'élement du dictionnaire correspondant pour chaque variable de la liste.\n",
    "\n",
    "C'est un cas d'usage très courant si je ne connais pas les clef potentiel présente dans mon dictionnaire par exemple.\n",
    "\n",
    "Conseil: Utiliser une boucle pour parcourir la liste et a chaque tour de bloc, enclencher un bloc try-except pour gerer la présence ou non de la clef dans le dictionnaire."
   ]
  },
  {
   "cell_type": "code",
   "id": "e4d9ddc4",
   "metadata": {
    "ExecuteTime": {
     "end_time": "2025-01-21T11:48:27.579674Z",
     "start_time": "2025-01-21T11:48:27.573977Z"
    }
   },
   "source": [
    "annee_liste = [\"2019\", \"2020\", \"2021\", \"2022\", \"2023\", \"2024\"]\n",
    "annee_dict = {\n",
    "    \"2019\": 3927,\n",
    "    \"2020\": 4920,\n",
    "    \"2021\": 7402,\n",
    "    \"2032\": 3902,\n",
    "    \"2023\": 3840,\n",
    "    \"2025\": 9367\n",
    "}"
   ],
   "outputs": [],
   "execution_count": 6
  },
  {
   "cell_type": "code",
   "id": "f2cad72d",
   "metadata": {
    "ExecuteTime": {
     "end_time": "2025-01-21T11:49:28.341694Z",
     "start_time": "2025-01-21T11:49:28.336366Z"
    }
   },
   "source": [
    "# votre code ici\n",
    "for annee in annee_liste:\n",
    "    try:\n",
    "        val = annee_dict[annee]\n",
    "        print(annee, 'présente')\n",
    "    except KeyError:\n",
    "        print(annee, 'non présente')\n",
    "print('fin')"
   ],
   "outputs": [
    {
     "name": "stdout",
     "output_type": "stream",
     "text": [
      "2019 présente\n",
      "2020 présente\n",
      "2021 présente\n",
      "2022 non présente\n",
      "2023 présente\n",
      "2024 non présente\n",
      "fin\n"
     ]
    }
   ],
   "execution_count": 8
  },
  {
   "cell_type": "code",
   "execution_count": null,
   "id": "450315f0",
   "metadata": {},
   "outputs": [],
   "source": [
    "# votre code ici"
   ]
  }
 ],
 "metadata": {
  "kernelspec": {
   "display_name": "Python 3",
   "language": "python",
   "name": "python3"
  },
  "language_info": {
   "codemirror_mode": {
    "name": "ipython",
    "version": 3
   },
   "file_extension": ".py",
   "mimetype": "text/x-python",
   "name": "python",
   "nbconvert_exporter": "python",
   "pygments_lexer": "ipython3",
   "version": "3.10.9"
  },
  "vscode": {
   "interpreter": {
    "hash": "369f2c481f4da34e4445cda3fffd2e751bd1c4d706f27375911949ba6bb62e1c"
   }
  }
 },
 "nbformat": 4,
 "nbformat_minor": 5
}
