{
 "cells": [
  {
   "cell_type": "markdown",
   "metadata": {},
   "source": [
    "### Les boucles"
   ],
   "id": "10d1ad69694106a4"
  },
  {
   "cell_type": "markdown",
   "metadata": {},
   "source": [
    "#### while\n",
    "\n",
    "La boucle **while** permet de répéter en boucle l'action **tant que** la condition initiale n'est pas vérifiée.\n",
    "\n",
    "Très utile lorsqu'on ne sait pas combien de temps il faudra répéter une action."
   ],
   "id": "f9914b41062e8685"
  },
  {
   "cell_type": "code",
   "metadata": {
    "ExecuteTime": {
     "end_time": "2025-01-21T10:48:27.665412Z",
     "start_time": "2025-01-21T10:48:27.657314Z"
    }
   },
   "source": [
    "i = 0\n",
    "while i < 5:  # tant que i<5, on parcourt la boucle\n",
    "    print(i)\n",
    "    i = i + 1 # on reaffecte i en \"l'écrasant\""
   ],
   "id": "87b5576e352a8601",
   "outputs": [
    {
     "name": "stdout",
     "output_type": "stream",
     "text": [
      "0\n",
      "1\n",
      "2\n",
      "3\n",
      "4\n"
     ]
    }
   ],
   "execution_count": 1
  },
  {
   "cell_type": "markdown",
   "metadata": {},
   "source": [
    "<span style=\"color: red\">/!\\ Attention aux boucles infinies.</span>\n",
    "\n",
    "Sur Jupyter vous pouvez utiliser le bouton \"interrompre le noyau\" pour stopper le calcul, sinon en ligne de commande il faut utiliser ctrl + C."
   ],
   "id": "6ee05f9af64567c9"
  },
  {
   "cell_type": "markdown",
   "metadata": {},
   "source": [
    "#### for\n",
    "La boucle **for** permet de répeter l'action pour chacune des variable de la liste (ou plus généralement, de l'itérable) donnée.\n",
    "\n",
    "A chaque tour de la boucle, la variable définie prend la valeur suivante de la liste donnée."
   ],
   "id": "dc16d35c03c01125"
  },
  {
   "cell_type": "code",
   "metadata": {
    "ExecuteTime": {
     "end_time": "2025-01-21T10:49:12.971571Z",
     "start_time": "2025-01-21T10:49:12.963375Z"
    }
   },
   "source": [
    "vowel = ['a', 'e', 'i', 'o', 'u', 'y']\n",
    "for letter in vowel:  # pour chaque élément de la liste, on parcout la boucle\n",
    "    print(letter)\n",
    "print('fin')"
   ],
   "id": "3af3688352ad117b",
   "outputs": [
    {
     "name": "stdout",
     "output_type": "stream",
     "text": [
      "a\n",
      "e\n",
      "i\n",
      "o\n",
      "u\n",
      "y\n",
      "fin\n"
     ]
    }
   ],
   "execution_count": 2
  },
  {
   "cell_type": "markdown",
   "id": "caf91849",
   "metadata": {},
   "source": [
    "ici **letter** peut être remplacer par la déclaration de nimporte quelle variable, par exemple **i**"
   ]
  },
  {
   "cell_type": "code",
   "id": "5dfe9dce",
   "metadata": {
    "ExecuteTime": {
     "end_time": "2025-01-21T10:49:19.384475Z",
     "start_time": "2025-01-21T10:49:19.378319Z"
    }
   },
   "source": [
    "vowel = ['a', 'e', 'i', 'o', 'u', 'y']\n",
    "for i in vowel:  # pour chaque élément de la liste, on parcout la boucle\n",
    "    print(i)\n",
    "print('fin')"
   ],
   "outputs": [
    {
     "name": "stdout",
     "output_type": "stream",
     "text": [
      "a\n",
      "e\n",
      "i\n",
      "o\n",
      "u\n",
      "y\n",
      "fin\n"
     ]
    }
   ],
   "execution_count": 3
  },
  {
   "cell_type": "markdown",
   "metadata": {},
   "source": [
    "*range()* - permet d'itérer jusqu'à un certain nombre (commence à 0, dernier exclus):"
   ],
   "id": "567541ea4a8b6d76"
  },
  {
   "cell_type": "code",
   "metadata": {
    "ExecuteTime": {
     "end_time": "2025-01-21T10:49:37.603459Z",
     "start_time": "2025-01-21T10:49:37.599075Z"
    }
   },
   "source": [
    "for i in range(2, 5):  # range(0,5) revient à dire [0, 1, 2, 3, 4]\n",
    "    print(i)"
   ],
   "id": "8ff184a598734e8d",
   "outputs": [
    {
     "name": "stdout",
     "output_type": "stream",
     "text": [
      "2\n",
      "3\n",
      "4\n"
     ]
    }
   ],
   "execution_count": 4
  },
  {
   "cell_type": "code",
   "metadata": {
    "ExecuteTime": {
     "end_time": "2025-01-21T10:49:39.233759Z",
     "start_time": "2025-01-21T10:49:39.229094Z"
    }
   },
   "source": [
    "for i in range(10):\n",
    "    print(i)"
   ],
   "id": "f48c4bc9b95c6a33",
   "outputs": [
    {
     "name": "stdout",
     "output_type": "stream",
     "text": [
      "0\n",
      "1\n",
      "2\n",
      "3\n",
      "4\n",
      "5\n",
      "6\n",
      "7\n",
      "8\n",
      "9\n"
     ]
    }
   ],
   "execution_count": 5
  },
  {
   "cell_type": "markdown",
   "metadata": {},
   "source": [
    "On peut fournir un troisième paramètre à la fonction range: le pas. Si on fourni '-1', on itérera en arrière, si on fourni 2, on sautera un nombre à chaque boucle etc"
   ],
   "id": "d5f0726e4cfeb6f3"
  },
  {
   "cell_type": "code",
   "metadata": {
    "ExecuteTime": {
     "end_time": "2025-01-21T10:50:19.741879Z",
     "start_time": "2025-01-21T10:50:19.737Z"
    }
   },
   "source": [
    "for i in range(5, 0, -1):  # range(5, 0, -1) revient à dire [5, 4, 3, 2, 1]\n",
    "    print(i)"
   ],
   "id": "32c5ba1844224d18",
   "outputs": [
    {
     "name": "stdout",
     "output_type": "stream",
     "text": [
      "5\n",
      "4\n",
      "3\n",
      "2\n",
      "1\n"
     ]
    }
   ],
   "execution_count": 6
  },
  {
   "cell_type": "markdown",
   "metadata": {},
   "source": [
    "*enumerate* - permet d'obtenir l'index de l'itération. Autrement dit, un nombre qui commence à 0 et incrémente de 1 à chaque passage de la boucle. Cela peut être utilse notammentsi vous manipuler des indexes"
   ],
   "id": "cc53406e198e64ce"
  },
  {
   "cell_type": "code",
   "id": "d192cc5a",
   "metadata": {
    "ExecuteTime": {
     "end_time": "2025-01-21T10:51:32.190270Z",
     "start_time": "2025-01-21T10:51:32.184962Z"
    }
   },
   "source": [
    "new_liste = ['12', 4, 'Salut', 6.2, {\"key\": \"value\"}]"
   ],
   "outputs": [],
   "execution_count": 7
  },
  {
   "cell_type": "code",
   "metadata": {
    "ExecuteTime": {
     "end_time": "2025-01-21T10:51:38.288616Z",
     "start_time": "2025-01-21T10:51:38.283495Z"
    }
   },
   "source": [
    "for index, var in enumerate(new_liste):\n",
    "    print(\"var\", index, \":\", var)"
   ],
   "id": "d7fbd17e1eebf6f3",
   "outputs": [
    {
     "name": "stdout",
     "output_type": "stream",
     "text": [
      "var 0 : 12\n",
      "var 1 : 4\n",
      "var 2 : Salut\n",
      "var 3 : 6.2\n",
      "var 4 : {'key': 'value'}\n"
     ]
    }
   ],
   "execution_count": 8
  },
  {
   "cell_type": "markdown",
   "metadata": {},
   "source": [
    "*list comprehensions* - pour les boucles for simples, on peut utiliser un raccourci pour les écrire en une ligne et les affecter à une voyelle."
   ],
   "id": "51d69624745cb7fe"
  },
  {
   "cell_type": "code",
   "metadata": {
    "ExecuteTime": {
     "end_time": "2025-01-21T10:52:29.249858Z",
     "start_time": "2025-01-21T10:52:29.243275Z"
    }
   },
   "source": [
    "my_list = [1, 2, 3, 4, 5, 6, 7, 8, 9, 10]\n",
    "my_squared_list = [i ** 2 for i in my_list]\n",
    "# list comprehension. le i est déclarer avant.\n",
    "# ici on ne print pas mais on stock le tout dans une nouvelle variable (une liste egalement)\n",
    "print(my_squared_list)"
   ],
   "id": "d8907562898e1f4a",
   "outputs": [
    {
     "name": "stdout",
     "output_type": "stream",
     "text": [
      "[1, 4, 9, 16, 25, 36, 49, 64, 81, 100]\n"
     ]
    }
   ],
   "execution_count": 9
  },
  {
   "cell_type": "markdown",
   "metadata": {},
   "source": [
    "On peut aussi itérer sur un dictionnaire en utilisant sa fonction *.items()*:"
   ],
   "id": "9ce074f2db9dcdb5"
  },
  {
   "cell_type": "code",
   "metadata": {
    "ExecuteTime": {
     "end_time": "2025-01-21T10:53:01.322480Z",
     "start_time": "2025-01-21T10:53:01.314112Z"
    }
   },
   "source": [
    "my_dict = {'a': 1, 'b': 2, 'c': 3, 'd': 4}\n",
    "print(my_dict)\n",
    "\n",
    "compteur = 0 # on va ajouter chaue valeur de chaque clef à ce compteur\n",
    "for key, value in my_dict.items():\n",
    "    print('key: ' + key + \", value: \" + str(value))\n",
    "    compteur = compteur + value\n",
    "    print('COMPTEUR EN COURS: ', compteur)\n",
    "    \n",
    "print('COMPTEUR TOTAL: ', compteur)"
   ],
   "id": "c62ae6ebf0b42c52",
   "outputs": [
    {
     "name": "stdout",
     "output_type": "stream",
     "text": [
      "{'a': 1, 'b': 2, 'c': 3, 'd': 4}\n",
      "key: a, value: 1\n",
      "COMPTEUR EN COURS:  1\n",
      "key: b, value: 2\n",
      "COMPTEUR EN COURS:  3\n",
      "key: c, value: 3\n",
      "COMPTEUR EN COURS:  6\n",
      "key: d, value: 4\n",
      "COMPTEUR EN COURS:  10\n",
      "COMPTEUR TOTAL:  10\n"
     ]
    }
   ],
   "execution_count": 10
  },
  {
   "cell_type": "markdown",
   "metadata": {},
   "source": [
    "Enfin, il est possible d'imbriquer des boucles :"
   ],
   "id": "919a765ee16df858"
  },
  {
   "cell_type": "code",
   "execution_count": null,
   "metadata": {},
   "outputs": [],
   "source": [
    "for i in range(3):\n",
    "    for j in range(3):\n",
    "        print(\"i:\", i, \"j:\", j)"
   ],
   "id": "1fa314fe18673644"
  },
  {
   "cell_type": "markdown",
   "metadata": {},
   "source": [
    "#### <span style=\"color: green\">Exercice sur les boucles</span>"
   ],
   "id": "d3638af67b61bb01"
  },
  {
   "cell_type": "markdown",
   "metadata": {},
   "source": [
    "Afficher tous les nombres entre 1500 et 2700 (inclus) qui sont à la fois multiples de 5 et de 7.\n",
    "\n",
    "Vous pouvez pour cela utiliser le **modulo** et l'operateur **and**, vue précédemment."
   ],
   "id": "3c9a8f887da699d8"
  },
  {
   "cell_type": "code",
   "id": "0a689ad9",
   "metadata": {
    "ExecuteTime": {
     "end_time": "2025-01-21T10:54:51.560787Z",
     "start_time": "2025-01-21T10:54:51.555090Z"
    }
   },
   "source": [
    "# votre code ici\n",
    "for i in range(1500, 2701):\n",
    "    if i%5 == 0 and i%7 == 0:\n",
    "        print(i)"
   ],
   "outputs": [
    {
     "name": "stdout",
     "output_type": "stream",
     "text": [
      "1505\n",
      "1540\n",
      "1575\n",
      "1610\n",
      "1645\n",
      "1680\n",
      "1715\n",
      "1750\n",
      "1785\n",
      "1820\n",
      "1855\n",
      "1890\n",
      "1925\n",
      "1960\n",
      "1995\n",
      "2030\n",
      "2065\n",
      "2100\n",
      "2135\n",
      "2170\n",
      "2205\n",
      "2240\n",
      "2275\n",
      "2310\n",
      "2345\n",
      "2380\n",
      "2415\n",
      "2450\n",
      "2485\n",
      "2520\n",
      "2555\n",
      "2590\n",
      "2625\n",
      "2660\n",
      "2695\n"
     ]
    }
   ],
   "execution_count": 11
  },
  {
   "cell_type": "markdown",
   "metadata": {},
   "source": [
    "Utilisez la fonction de numpy randint pour générer un nombre entre 0 et 10 aléatoirement, affecté à i. Affichez ce nombre et recommencez tant que le nombre n'est pas inférieur à 2.\n",
    "\n",
    "Astuces :\n",
    "- randint prend pour paramètres le nombre minimal (inclus), et le nombre maximal (non inclus) qu'il est possible de tirer aléatoirement.\n",
    "- utiliser une boucle while"
   ],
   "id": "68edf70c71482dd0"
  },
  {
   "cell_type": "code",
   "execution_count": null,
   "metadata": {
    "scrolled": true
   },
   "outputs": [],
   "source": [
    "from numpy.random import randint\n",
    "# Exemple d'utilisation de randint :\n",
    "print(randint(0, 11))"
   ],
   "id": "40b161608c314cc5"
  },
  {
   "metadata": {
    "ExecuteTime": {
     "end_time": "2025-01-21T14:01:13.900451Z",
     "start_time": "2025-01-21T14:01:13.869831Z"
    }
   },
   "cell_type": "code",
   "source": [
    "from numpy.random import randint\n",
    "# votre code ici\n",
    "i = randint(0, 11)\n",
    "while i >= 2:\n",
    "    print(i)\n",
    "    i = randint(0, 11)"
   ],
   "id": "0eebe08f",
   "outputs": [
    {
     "ename": "ModuleNotFoundError",
     "evalue": "No module named 'numpy'",
     "output_type": "error",
     "traceback": [
      "\u001B[0;31m---------------------------------------------------------------------------\u001B[0m",
      "\u001B[0;31mModuleNotFoundError\u001B[0m                       Traceback (most recent call last)",
      "Cell \u001B[0;32mIn[76], line 1\u001B[0m\n\u001B[0;32m----> 1\u001B[0m \u001B[38;5;28;01mfrom\u001B[39;00m\u001B[38;5;250m \u001B[39m\u001B[38;5;21;01mnumpy\u001B[39;00m\u001B[38;5;21;01m.\u001B[39;00m\u001B[38;5;21;01mrandom\u001B[39;00m\u001B[38;5;250m \u001B[39m\u001B[38;5;28;01mimport\u001B[39;00m randint\n\u001B[1;32m      2\u001B[0m \u001B[38;5;66;03m# votre code ici\u001B[39;00m\n\u001B[1;32m      3\u001B[0m i \u001B[38;5;241m=\u001B[39m randint(\u001B[38;5;241m0\u001B[39m, \u001B[38;5;241m11\u001B[39m)\n",
      "\u001B[0;31mModuleNotFoundError\u001B[0m: No module named 'numpy'"
     ]
    }
   ],
   "execution_count": 76
  }
 ],
 "metadata": {
  "kernelspec": {
   "display_name": "Python 3",
   "language": "python",
   "name": "python3"
  },
  "language_info": {
   "codemirror_mode": {
    "name": "ipython",
    "version": 3
   },
   "file_extension": ".py",
   "mimetype": "text/x-python",
   "name": "python",
   "nbconvert_exporter": "python",
   "pygments_lexer": "ipython3",
   "version": "3.10.9"
  },
  "vscode": {
   "interpreter": {
    "hash": "369f2c481f4da34e4445cda3fffd2e751bd1c4d706f27375911949ba6bb62e1c"
   }
  }
 },
 "nbformat": 4,
 "nbformat_minor": 5
}
