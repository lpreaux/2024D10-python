{
 "cells": [
  {
   "cell_type": "markdown",
   "id": "13695593",
   "metadata": {},
   "source": [
    "### Les dictionnaires"
   ]
  },
  {
   "cell_type": "markdown",
   "id": "5ca13a9c",
   "metadata": {},
   "source": [
    "Un dictionnaire est une variable de type dict qui a pour particularité de contenir un ensemble de clef-valeur. chaque clef du dictionnaire contient une valeur, qui peut prendre nimporte quelle type de variable possible"
   ]
  },
  {
   "cell_type": "code",
   "id": "6de12ca2",
   "metadata": {
    "ExecuteTime": {
     "end_time": "2025-01-21T10:01:03.843701Z",
     "start_time": "2025-01-21T10:01:03.827591Z"
    }
   },
   "source": [
    "my_dict = {'clef_1': 1}\n",
    "my_dict"
   ],
   "outputs": [
    {
     "data": {
      "text/plain": [
       "{'clef_1': 1}"
      ]
     },
     "execution_count": 1,
     "metadata": {},
     "output_type": "execute_result"
    }
   ],
   "execution_count": 1
  },
  {
   "cell_type": "code",
   "id": "08ae6bf2",
   "metadata": {
    "ExecuteTime": {
     "end_time": "2025-01-21T10:01:05.021625Z",
     "start_time": "2025-01-21T10:01:05.014991Z"
    }
   },
   "source": [
    "type(my_dict)"
   ],
   "outputs": [
    {
     "data": {
      "text/plain": [
       "dict"
      ]
     },
     "execution_count": 2,
     "metadata": {},
     "output_type": "execute_result"
    }
   ],
   "execution_count": 2
  },
  {
   "cell_type": "markdown",
   "id": "7db9cafd",
   "metadata": {},
   "source": [
    "Il est possible de mélanger les types de valeurs au sein d'une même liste :"
   ]
  },
  {
   "cell_type": "code",
   "id": "0cc9de3f",
   "metadata": {
    "ExecuteTime": {
     "end_time": "2025-01-21T10:01:07.042649Z",
     "start_time": "2025-01-21T10:01:07.033762Z"
    }
   },
   "source": [
    "my_dict = {'clef_1': 1, 'clef_2': [1, 2, 3], 'clef_3': 'Nom', 'clef_4': 2.3, 'clef_5': {'url': 'MON_URL'}}\n",
    "my_dict"
   ],
   "outputs": [
    {
     "data": {
      "text/plain": [
       "{'clef_1': 1,\n",
       " 'clef_2': [1, 2, 3],\n",
       " 'clef_3': 'Nom',\n",
       " 'clef_4': 2.3,\n",
       " 'clef_5': {'url': 'MON_URL'}}"
      ]
     },
     "execution_count": 3,
     "metadata": {},
     "output_type": "execute_result"
    }
   ],
   "execution_count": 3
  },
  {
   "cell_type": "markdown",
   "id": "3707eced",
   "metadata": {},
   "source": [
    "Il existe plusieurs moyens d'accéder aux éléments d'un dictionnaire. L'accès direct se fait via des crochets `[]` au sein desquels nous précisions la clef souhaité de l'élèment auquel on souhaite accéder."
   ]
  },
  {
   "cell_type": "code",
   "id": "2f55ab1c",
   "metadata": {
    "ExecuteTime": {
     "end_time": "2025-01-21T10:01:58.567075Z",
     "start_time": "2025-01-21T10:01:58.553322Z"
    }
   },
   "source": [
    "my_dict = {'clef_1': 1, 'clef_2': [1, 2, 3], 'clef_3': 'Nom', 'clef_4': True, 'clef_5': {'url': 'MON_URL'}}\n",
    "my_dict['clef_2']  # accès à la clef 'clef_2'"
   ],
   "outputs": [
    {
     "data": {
      "text/plain": [
       "[1, 2, 3]"
      ]
     },
     "execution_count": 4,
     "metadata": {},
     "output_type": "execute_result"
    }
   ],
   "execution_count": 4
  },
  {
   "cell_type": "code",
   "id": "320d2edc",
   "metadata": {
    "ExecuteTime": {
     "end_time": "2025-01-21T10:02:10.047679Z",
     "start_time": "2025-01-21T10:02:10.040002Z"
    }
   },
   "source": "my_dict.get('clef_2')  # autre méthode pour obtenir une valeur, la méthode .get(<nom_clef>)",
   "outputs": [
    {
     "data": {
      "text/plain": [
       "[1, 2, 3]"
      ]
     },
     "execution_count": 6,
     "metadata": {},
     "output_type": "execute_result"
    }
   ],
   "execution_count": 6
  },
  {
   "cell_type": "markdown",
   "id": "a10a0ad2",
   "metadata": {},
   "source": [
    "Vous pouvez acceder au clef valeur d'un dictionnaire avec .items(). Cela sera utilse lorsqu'on parcours un dictionnaire avec une boucle. La méthode .items() renvoit une liste de tuples contenant les deux valeurs"
   ]
  },
  {
   "cell_type": "code",
   "id": "51946efe",
   "metadata": {
    "ExecuteTime": {
     "end_time": "2025-01-21T10:02:15.440333Z",
     "start_time": "2025-01-21T10:02:15.431038Z"
    }
   },
   "source": [
    "my_dict.items()"
   ],
   "outputs": [
    {
     "data": {
      "text/plain": [
       "dict_items([('clef_1', 1), ('clef_2', [1, 2, 3]), ('clef_3', 'Nom'), ('clef_4', True), ('clef_5', {'url': 'MON_URL'})])"
      ]
     },
     "execution_count": 7,
     "metadata": {},
     "output_type": "execute_result"
    }
   ],
   "execution_count": 7
  },
  {
   "cell_type": "markdown",
   "id": "f5bc73e3",
   "metadata": {},
   "source": [
    "Si vous souhaitez acceder seulement aux clefs ou aux valeurs du dictionnaire, les méthodes .keys() et .values() sont faites pour vous. Cela renvoie une liste."
   ]
  },
  {
   "cell_type": "code",
   "id": "82099a27",
   "metadata": {
    "ExecuteTime": {
     "end_time": "2025-01-21T10:02:25.550807Z",
     "start_time": "2025-01-21T10:02:25.543582Z"
    }
   },
   "source": [
    "print('KEYS: ', my_dict.keys())\n",
    "print('VALUES: ', my_dict.values())"
   ],
   "outputs": [
    {
     "name": "stdout",
     "output_type": "stream",
     "text": [
      "KEYS:  dict_keys(['clef_1', 'clef_2', 'clef_3', 'clef_4', 'clef_5'])\n",
      "VALUES:  dict_values([1, [1, 2, 3], 'Nom', True, {'url': 'MON_URL'}])\n"
     ]
    }
   ],
   "execution_count": 8
  },
  {
   "cell_type": "markdown",
   "id": "a4e65b39",
   "metadata": {},
   "source": [
    "Il est possible d'ajouter une nouvelle clef au dictionnaire"
   ]
  },
  {
   "cell_type": "code",
   "id": "7698dda7",
   "metadata": {
    "ExecuteTime": {
     "end_time": "2025-01-21T10:02:53.910259Z",
     "start_time": "2025-01-21T10:02:53.902863Z"
    }
   },
   "source": [
    "my_dict['new_key'] = 'Nouvelle valeur'\n",
    "print(my_dict)"
   ],
   "outputs": [
    {
     "name": "stdout",
     "output_type": "stream",
     "text": [
      "{'clef_1': 1, 'clef_2': [1, 2, 3], 'clef_3': 'Nom', 'clef_4': True, 'clef_5': {'url': 'MON_URL'}, 'new_key': 'Nouvelle valeur'}\n"
     ]
    }
   ],
   "execution_count": 9
  },
  {
   "cell_type": "markdown",
   "id": "b716d6b5",
   "metadata": {},
   "source": [
    "Il est également possible de mettre à jour une clef existante"
   ]
  },
  {
   "cell_type": "code",
   "id": "b4599f0b",
   "metadata": {
    "ExecuteTime": {
     "end_time": "2025-01-21T10:02:57.630127Z",
     "start_time": "2025-01-21T10:02:57.624687Z"
    }
   },
   "source": [
    "my_dict['clef_1'] = 10\n",
    "print(my_dict)"
   ],
   "outputs": [
    {
     "name": "stdout",
     "output_type": "stream",
     "text": [
      "{'clef_1': 10, 'clef_2': [1, 2, 3], 'clef_3': 'Nom', 'clef_4': True, 'clef_5': {'url': 'MON_URL'}, 'new_key': 'Nouvelle valeur'}\n"
     ]
    }
   ],
   "execution_count": 10
  },
  {
   "cell_type": "markdown",
   "id": "d3f24ee3",
   "metadata": {},
   "source": [
    "Vous pouvez également supprimer une paire clef-valeur avec `del`"
   ]
  },
  {
   "cell_type": "code",
   "id": "3f138338",
   "metadata": {
    "ExecuteTime": {
     "end_time": "2025-01-21T10:03:08.032853Z",
     "start_time": "2025-01-21T10:03:08.028964Z"
    }
   },
   "source": [
    "del (my_dict['new_key'])\n",
    "print(my_dict)"
   ],
   "outputs": [
    {
     "name": "stdout",
     "output_type": "stream",
     "text": [
      "{'clef_1': 10, 'clef_2': [1, 2, 3], 'clef_3': 'Nom', 'clef_4': True, 'clef_5': {'url': 'MON_URL'}}\n"
     ]
    }
   ],
   "execution_count": 11
  },
  {
   "cell_type": "markdown",
   "id": "beda205a",
   "metadata": {},
   "source": [
    "Meme si cela est peu commun, vous pouvez créer un dictionnaire avec des clefs index en int, et y acceder comme avec une clef normal en chaine de caractère."
   ]
  },
  {
   "cell_type": "code",
   "id": "ad99d50d",
   "metadata": {
    "ExecuteTime": {
     "end_time": "2025-01-21T10:03:22.267468Z",
     "start_time": "2025-01-21T10:03:22.258695Z"
    }
   },
   "source": [
    "my_dict_index = {0: 'valeur_1', 1: 'valeur_2'}\n",
    "print(my_dict_index[0])"
   ],
   "outputs": [
    {
     "name": "stdout",
     "output_type": "stream",
     "text": [
      "valeur_1\n"
     ]
    }
   ],
   "execution_count": 12
  },
  {
   "cell_type": "markdown",
   "id": "6a1c7209",
   "metadata": {},
   "source": [
    "Si vous essayez d'obtenir une valeur par une clef qui n'existe pas, vous obtiendrez une erreur de type **KeyError**"
   ]
  },
  {
   "cell_type": "markdown",
   "id": "24ad6177",
   "metadata": {},
   "source": [
    "Vous pouvez egalement mettre à jour plusieurs dictionnaire en mergant les dictionnaire. Si la clef existe déja dans le dictionnaire 1, et qu'une clef dans le dictionnaire 2 porte le meme nom, la valeur sera mise à jour. Si la clef n'existe n'existe pas dans le dictionnaire 1, la paire clef-valeur sera ajouter au dictionnaire 1"
   ]
  },
  {
   "cell_type": "code",
   "id": "9e2c5e8c",
   "metadata": {
    "ExecuteTime": {
     "end_time": "2025-01-21T10:03:23.820691Z",
     "start_time": "2025-01-21T10:03:23.814954Z"
    }
   },
   "source": [
    "d1 = {'a': 10, 'b': 20, 'c': 30}\n",
    "d2 = {'b': 200, 'd': 400}\n",
    "print('BEFORE: ', d1)\n",
    "d1.update(d2)\n",
    "print('AFTER: ', d1)"
   ],
   "outputs": [
    {
     "name": "stdout",
     "output_type": "stream",
     "text": [
      "BEFORE:  {'a': 10, 'b': 20, 'c': 30}\n",
      "AFTER:  {'a': 10, 'b': 200, 'c': 30, 'd': 400}\n"
     ]
    }
   ],
   "execution_count": 13
  },
  {
   "cell_type": "code",
   "id": "df4d516d",
   "metadata": {
    "ExecuteTime": {
     "end_time": "2025-01-21T10:03:25.775525Z",
     "start_time": "2025-01-21T10:03:25.769744Z"
    }
   },
   "source": [
    "d1.update(a=11)  # mettre à jour une clef\n",
    "print(d1)"
   ],
   "outputs": [
    {
     "name": "stdout",
     "output_type": "stream",
     "text": [
      "{'a': 11, 'b': 200, 'c': 30, 'd': 400}\n"
     ]
    }
   ],
   "execution_count": 14
  },
  {
   "cell_type": "code",
   "id": "dcdeb0ad",
   "metadata": {
    "ExecuteTime": {
     "end_time": "2025-01-21T10:03:27.333614Z",
     "start_time": "2025-01-21T10:03:27.328859Z"
    }
   },
   "source": [
    "d1.update({'a': 12})\n",
    "print(d1)"
   ],
   "outputs": [
    {
     "name": "stdout",
     "output_type": "stream",
     "text": [
      "{'a': 12, 'b': 200, 'c': 30, 'd': 400}\n"
     ]
    }
   ],
   "execution_count": 15
  },
  {
   "cell_type": "markdown",
   "id": "53f4e5d8",
   "metadata": {},
   "source": [
    "#### <span style=\"color: green\">Exercice sur les dictionnaires</span>"
   ]
  },
  {
   "cell_type": "markdown",
   "id": "a592f54f",
   "metadata": {},
   "source": [
    "Utilisez une dictionnaire pour stocker manuellement les jours de la semaine avec comme clef 'Jour numero <>' et en valeur le nom du jour.\n",
    "\n",
    "Exemple: {'Jour numero 1': 'Lundi'}\n",
    "\n",
    "Utilisez la fonction print() pour afficher :\n",
    "\n",
    "- tous les jours\n",
    "- le jour numéro 3\n",
    "\n",
    "Supprimer ensuite les paires clef-valeur pour les jours samedi et dimanche.\n",
    "\n",
    "Remplacer ces clefs par un dictionnaire de nouvelles clefs {'Jour repos 1': 'Samedi', 'Jour repos 2': 'Dimanche'}"
   ]
  },
  {
   "cell_type": "code",
   "id": "bb2e6dfe",
   "metadata": {
    "ExecuteTime": {
     "end_time": "2025-01-21T10:21:39.837852Z",
     "start_time": "2025-01-21T10:21:39.829703Z"
    }
   },
   "source": [
    "# votre code ici\n",
    "JOURS_SEMAINE = {'Jour numero 1': 'Lundi', 'Jour numero 2': 'Mardi', 'Jour numero 3': 'Mercredi',\n",
    "                 'Jour numero 4': 'Jeudi', 'Jour numero 5': 'Vendredi', 'Jour numero 6': 'Samedi',\n",
    "                 'Jour numero 7': 'Dimanche'}\n",
    "\n",
    "print(JOURS_SEMAINE.values())\n",
    "print(JOURS_SEMAINE['Jour numero 3'])\n",
    "\n",
    "del(JOURS_SEMAINE['Jour numero 6'])\n",
    "del(JOURS_SEMAINE['Jour numero 7'])\n",
    "JOURS_SEMAINE.update({'Jour repos 1': 'Samedi', 'Jour repos 2': 'Dimanche'})\n",
    "\n",
    "print(JOURS_SEMAINE)\n"
   ],
   "outputs": [
    {
     "name": "stdout",
     "output_type": "stream",
     "text": [
      "dict_values(['Lundi', 'Mardi', 'Mercredi', 'Jeudi', 'Vendredi', 'Samedi', 'Dimanche'])\n",
      "Mercredi\n",
      "{'Jour numero 1': 'Lundi', 'Jour numero 2': 'Mardi', 'Jour numero 3': 'Mercredi', 'Jour numero 4': 'Jeudi', 'Jour numero 5': 'Vendredi', 'Jour repos 1': 'Samedi', 'Jour repos 2': 'Dimanche'}\n"
     ]
    }
   ],
   "execution_count": 17
  }
 ],
 "metadata": {
  "kernelspec": {
   "display_name": "Python 3",
   "language": "python",
   "name": "python3"
  },
  "language_info": {
   "codemirror_mode": {
    "name": "ipython",
    "version": 3
   },
   "file_extension": ".py",
   "mimetype": "text/x-python",
   "name": "python",
   "nbconvert_exporter": "python",
   "pygments_lexer": "ipython3",
   "version": "3.10.9"
  },
  "vscode": {
   "interpreter": {
    "hash": "369f2c481f4da34e4445cda3fffd2e751bd1c4d706f27375911949ba6bb62e1c"
   }
  }
 },
 "nbformat": 4,
 "nbformat_minor": 5
}
