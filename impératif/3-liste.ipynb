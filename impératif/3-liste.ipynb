{
 "cells": [
  {
   "cell_type": "markdown",
   "metadata": {},
   "source": [
    "### Les listes"
   ],
   "id": "585f2db3bdf31036"
  },
  {
   "cell_type": "markdown",
   "metadata": {},
   "source": [
    "Une liste est une variable de type list qui a pour particularité de contenir un ensemble de valeurs, contrairement aux variables vues plus haut qui contenaient une seule valeur chacune."
   ],
   "id": "ffa5228d6e26c7b3"
  },
  {
   "cell_type": "code",
   "metadata": {
    "ExecuteTime": {
     "end_time": "2025-01-21T09:08:31.015141Z",
     "start_time": "2025-01-21T09:08:30.999816Z"
    }
   },
   "source": [
    "my_list = [1, 2, 3, 4]\n",
    "my_list"
   ],
   "id": "fa246b377ce872eb",
   "outputs": [
    {
     "data": {
      "text/plain": [
       "[1, 2, 3, 4]"
      ]
     },
     "execution_count": 1,
     "metadata": {},
     "output_type": "execute_result"
    }
   ],
   "execution_count": 1
  },
  {
   "cell_type": "code",
   "metadata": {
    "ExecuteTime": {
     "end_time": "2025-01-21T09:08:32.330981Z",
     "start_time": "2025-01-21T09:08:32.324020Z"
    }
   },
   "source": [
    "type(my_list)"
   ],
   "id": "5d40787ff561306b",
   "outputs": [
    {
     "data": {
      "text/plain": [
       "list"
      ]
     },
     "execution_count": 2,
     "metadata": {},
     "output_type": "execute_result"
    }
   ],
   "execution_count": 2
  },
  {
   "cell_type": "markdown",
   "metadata": {},
   "source": [
    "Il est possible de mélanger les types de valeurs au sein d'une même liste :"
   ],
   "id": "8d2900cdeb83fb1a"
  },
  {
   "cell_type": "code",
   "metadata": {
    "ExecuteTime": {
     "end_time": "2025-01-21T09:08:41.734600Z",
     "start_time": "2025-01-21T09:08:41.728621Z"
    }
   },
   "source": [
    "my_list = ['a', 2, 'c', 4]  # Cette liste contient des str et des int\n",
    "my_list"
   ],
   "id": "d326f9ac82a57492",
   "outputs": [
    {
     "data": {
      "text/plain": [
       "['a', 2, 'c', 4]"
      ]
     },
     "execution_count": 3,
     "metadata": {},
     "output_type": "execute_result"
    }
   ],
   "execution_count": 3
  },
  {
   "cell_type": "markdown",
   "metadata": {},
   "source": [
    "Il existe plusieurs moyens d'accéder aux éléments d'une liste. L'accès direct se fait via des crochets `[]` au sein desquels nous précisions l'index de l'élèment auquel on souhaite accéder.\n",
    "\n",
    "<span style=\"color: red\">/!\\ l'indexation en Python commence à 0, comme dans de nombreux langages.</span>"
   ],
   "id": "120ff6f8d9cfecf4"
  },
  {
   "cell_type": "code",
   "metadata": {
    "ExecuteTime": {
     "end_time": "2025-01-21T09:08:54.357169Z",
     "start_time": "2025-01-21T09:08:54.348774Z"
    }
   },
   "source": [
    "my_list = [1, 2, 3, 4]\n",
    "my_list[0]  # accès à l'élément \"0\" de la liste (correspond donc au premier élément)"
   ],
   "id": "c5848191f0ea2369",
   "outputs": [
    {
     "data": {
      "text/plain": [
       "1"
      ]
     },
     "execution_count": 4,
     "metadata": {},
     "output_type": "execute_result"
    }
   ],
   "execution_count": 4
  },
  {
   "cell_type": "code",
   "metadata": {
    "ExecuteTime": {
     "end_time": "2025-01-21T09:08:56.316468Z",
     "start_time": "2025-01-21T09:08:56.310136Z"
    }
   },
   "source": [
    "my_list[1]  # accès à l'élément \"1\" de la liste (donc le deuxième élément)"
   ],
   "id": "441b871b2d3de7b4",
   "outputs": [
    {
     "data": {
      "text/plain": [
       "2"
      ]
     },
     "execution_count": 5,
     "metadata": {},
     "output_type": "execute_result"
    }
   ],
   "execution_count": 5
  },
  {
   "cell_type": "markdown",
   "metadata": {},
   "source": [
    "Il est possible d'accéder aux éléments de la liste par la fin :"
   ],
   "id": "f392b13b324611ea"
  },
  {
   "cell_type": "code",
   "metadata": {
    "ExecuteTime": {
     "end_time": "2025-01-21T09:09:00.608743Z",
     "start_time": "2025-01-21T09:09:00.600341Z"
    }
   },
   "source": [
    "my_list[-1]  # accès au dernier élément"
   ],
   "id": "6a770248817a2aa7",
   "outputs": [
    {
     "data": {
      "text/plain": [
       "4"
      ]
     },
     "execution_count": 6,
     "metadata": {},
     "output_type": "execute_result"
    }
   ],
   "execution_count": 6
  },
  {
   "cell_type": "code",
   "metadata": {
    "ExecuteTime": {
     "end_time": "2025-01-21T09:09:03.112592Z",
     "start_time": "2025-01-21T09:09:03.106062Z"
    }
   },
   "source": [
    "my_list[-2]  # accès à l'avant dernier élément"
   ],
   "id": "661f34c8ae09a132",
   "outputs": [
    {
     "data": {
      "text/plain": [
       "3"
      ]
     },
     "execution_count": 7,
     "metadata": {},
     "output_type": "execute_result"
    }
   ],
   "execution_count": 7
  },
  {
   "cell_type": "markdown",
   "metadata": {},
   "source": [
    "#### Slicing\n",
    "Il est possible d'accéder à plusieurs éléments de la liste en même temps : il s'agit donc d'un sous-ensemble (\"slice\") de la liste. On parle de **slicing**.\n",
    "\n",
    "<span style=\"color: red\">/!\\ Le deuxième nombre du slicing n'est pas inclus dans le slice renvoyé.</span>"
   ],
   "id": "df8fa412904e75b"
  },
  {
   "cell_type": "code",
   "metadata": {
    "ExecuteTime": {
     "end_time": "2025-01-21T09:10:04.479667Z",
     "start_time": "2025-01-21T09:10:04.472978Z"
    }
   },
   "source": [
    "my_list[0:2]  # les éléments de ma liste entre l'index 0 (inclus) et 2 (non inclus)"
   ],
   "id": "41cf976ad08807dd",
   "outputs": [
    {
     "data": {
      "text/plain": [
       "[1, 2]"
      ]
     },
     "execution_count": 8,
     "metadata": {},
     "output_type": "execute_result"
    }
   ],
   "execution_count": 8
  },
  {
   "cell_type": "code",
   "metadata": {
    "ExecuteTime": {
     "end_time": "2025-01-21T09:10:05.756146Z",
     "start_time": "2025-01-21T09:10:05.749256Z"
    }
   },
   "source": [
    "my_list[0:3]  # entre 0 et 3 (non inclus)"
   ],
   "id": "c5f97690ef6dd17d",
   "outputs": [
    {
     "data": {
      "text/plain": [
       "[1, 2, 3]"
      ]
     },
     "execution_count": 9,
     "metadata": {},
     "output_type": "execute_result"
    }
   ],
   "execution_count": 9
  },
  {
   "cell_type": "code",
   "metadata": {
    "ExecuteTime": {
     "end_time": "2025-01-21T09:10:06.716140Z",
     "start_time": "2025-01-21T09:10:06.709004Z"
    }
   },
   "source": [
    "my_list[:3]  # du début à 3 (non inclus)"
   ],
   "id": "f7f2dc131b3435c9",
   "outputs": [
    {
     "data": {
      "text/plain": [
       "[1, 2, 3]"
      ]
     },
     "execution_count": 10,
     "metadata": {},
     "output_type": "execute_result"
    }
   ],
   "execution_count": 10
  },
  {
   "cell_type": "code",
   "metadata": {
    "ExecuteTime": {
     "end_time": "2025-01-21T09:10:08.055003Z",
     "start_time": "2025-01-21T09:10:08.049843Z"
    }
   },
   "source": [
    "my_list[1:]  # entre 1 et la fin (dernier inclus)"
   ],
   "id": "d3597ebf94bcdc3a",
   "outputs": [
    {
     "data": {
      "text/plain": [
       "[2, 3, 4]"
      ]
     },
     "execution_count": 11,
     "metadata": {},
     "output_type": "execute_result"
    }
   ],
   "execution_count": 11
  },
  {
   "cell_type": "markdown",
   "metadata": {},
   "source": [
    "Pour modifier une liste, on peut : \n",
    "- Modifier un élément"
   ],
   "id": "b76455acb7adf7f3"
  },
  {
   "cell_type": "code",
   "metadata": {
    "ExecuteTime": {
     "end_time": "2025-01-21T09:10:13.795267Z",
     "start_time": "2025-01-21T09:10:13.787540Z"
    }
   },
   "source": [
    "my_list = [1, 2, 3, 4, 5, 6, 7, 8, 9, 10]\n",
    "my_list"
   ],
   "id": "4e25e015bc517bc5",
   "outputs": [
    {
     "data": {
      "text/plain": [
       "[1, 2, 3, 4, 5, 6, 7, 8, 9, 10]"
      ]
     },
     "execution_count": 12,
     "metadata": {},
     "output_type": "execute_result"
    }
   ],
   "execution_count": 12
  },
  {
   "cell_type": "code",
   "metadata": {
    "ExecuteTime": {
     "end_time": "2025-01-21T09:10:15.221307Z",
     "start_time": "2025-01-21T09:10:15.214448Z"
    }
   },
   "source": [
    "my_list[5] = 100  # modification de l'élément à l'index 5\n",
    "my_list"
   ],
   "id": "981160adeb325d71",
   "outputs": [
    {
     "data": {
      "text/plain": [
       "[1, 2, 3, 4, 5, 100, 7, 8, 9, 10]"
      ]
     },
     "execution_count": 13,
     "metadata": {},
     "output_type": "execute_result"
    }
   ],
   "execution_count": 13
  },
  {
   "cell_type": "code",
   "metadata": {
    "ExecuteTime": {
     "end_time": "2025-01-21T09:10:16.537797Z",
     "start_time": "2025-01-21T09:10:16.532459Z"
    }
   },
   "source": [
    "my_list[4:6] = [100, 100, 100]  # modification de la slice [4:6]\n",
    "my_list"
   ],
   "id": "f6c15382b0d89efe",
   "outputs": [
    {
     "data": {
      "text/plain": [
       "[1, 2, 3, 4, 100, 100, 100, 7, 8, 9, 10]"
      ]
     },
     "execution_count": 14,
     "metadata": {},
     "output_type": "execute_result"
    }
   ],
   "execution_count": 14
  },
  {
   "cell_type": "markdown",
   "metadata": {},
   "source": [
    "- Supprimer un élément"
   ],
   "id": "afdbb463cacd6e40"
  },
  {
   "cell_type": "code",
   "metadata": {
    "ExecuteTime": {
     "end_time": "2025-01-21T09:11:20.366555Z",
     "start_time": "2025-01-21T09:11:20.360410Z"
    }
   },
   "source": [
    "del(my_list[2])\n",
    "my_list"
   ],
   "id": "64d760b58d1a9a36",
   "outputs": [
    {
     "data": {
      "text/plain": [
       "[1, 2, 4, 100, 100, 100, 7, 8, 9, 10]"
      ]
     },
     "execution_count": 15,
     "metadata": {},
     "output_type": "execute_result"
    }
   ],
   "execution_count": 15
  },
  {
   "cell_type": "markdown",
   "metadata": {},
   "source": [
    "- Obtenir la longueur d'une liste"
   ],
   "id": "ab14bf7e9ca00002"
  },
  {
   "cell_type": "code",
   "metadata": {
    "ExecuteTime": {
     "end_time": "2025-01-21T09:16:17.518774Z",
     "start_time": "2025-01-21T09:16:17.513095Z"
    }
   },
   "source": [
    "len(my_list)"
   ],
   "id": "28f628c1e7d03597",
   "outputs": [
    {
     "data": {
      "text/plain": [
       "10"
      ]
     },
     "execution_count": 16,
     "metadata": {},
     "output_type": "execute_result"
    }
   ],
   "execution_count": 16
  },
  {
   "cell_type": "markdown",
   "id": "7d1e24ef",
   "metadata": {},
   "source": [
    "Vous pouvez ajouter un élément à une liste avec methode .append(<nom_de_element>)"
   ]
  },
  {
   "cell_type": "code",
   "id": "b942d960",
   "metadata": {
    "ExecuteTime": {
     "end_time": "2025-01-21T09:16:19.151567Z",
     "start_time": "2025-01-21T09:16:19.146759Z"
    }
   },
   "source": [
    "new_element = 'Nouvel élément'\n",
    "my_list.append(new_element)\n",
    "print(my_list)"
   ],
   "outputs": [
    {
     "name": "stdout",
     "output_type": "stream",
     "text": [
      "[1, 2, 4, 100, 100, 100, 7, 8, 9, 10, 'Nouvel élément']\n"
     ]
    }
   ],
   "execution_count": 17
  },
  {
   "cell_type": "markdown",
   "id": "55c354e9",
   "metadata": {},
   "source": [
    "### Les tuples"
   ]
  },
  {
   "cell_type": "markdown",
   "id": "f7f88911",
   "metadata": {},
   "source": [
    "Un tuple est une collection ordonnée et immuable, ce qui signifie que les éléments sont stockés dans un ordre précis et ne peuvent pas être modifiés une fois le tuple créé. Les tuples sont définis à l'aide de parenthèses () et peuvent contenir des éléments de types différents."
   ]
  },
  {
   "cell_type": "code",
   "id": "1db6ed97",
   "metadata": {
    "ExecuteTime": {
     "end_time": "2025-01-21T11:39:50.951136Z",
     "start_time": "2025-01-21T11:39:50.944559Z"
    }
   },
   "source": [
    "# Création d'un tuple\n",
    "mon_tuple = 1, 2, 3, \"quatre\", 5.0\n",
    "\n",
    "# Accéder aux éléments\n",
    "premier_element = mon_tuple[0]  # 1\n",
    "dernier_element = mon_tuple[-1]  # 5.0\n",
    "\n",
    "# Longueur du tuple\n",
    "longueur = len(mon_tuple)  # 5\n",
    "\n",
    "# Comptage d'un élément spécifique\n",
    "nombre_de_deux = mon_tuple.count(2)  # 1\n",
    "\n",
    "# Obtenir l'index d'un élément\n",
    "index_de_quatre = mon_tuple.index(\"quatre\")  # 3\n",
    "\n",
    "# Tentative de modification (provoquera une erreur)\n",
    "# mon_tuple[0] = 10  # Erreur, les tuples sont immuables"
   ],
   "outputs": [],
   "execution_count": 24
  },
  {
   "cell_type": "markdown",
   "id": "5aa11323",
   "metadata": {},
   "source": [
    "### Les sets"
   ]
  },
  {
   "cell_type": "markdown",
   "id": "e21bc7e5",
   "metadata": {},
   "source": [
    "Un set est une collection non ordonnée d'éléments uniques. Contrairement aux tuples, les sets ne conservent pas l'ordre des éléments et éliminent automatiquement les doublons. Ils sont définis à l'aide d'accolades {} ou avec la fonction set()."
   ]
  },
  {
   "cell_type": "code",
   "execution_count": null,
   "id": "7e6eb77e",
   "metadata": {},
   "outputs": [],
   "source": [
    "# Création d'un set\n",
    "mon_set = {1, 2, 3, 4, 5}\n",
    "\n",
    "# Ajout d'un élément\n",
    "mon_set.add(6)  # mon_set devient {1, 2, 3, 4, 5, 6}\n",
    "\n",
    "# Suppression d'un élément\n",
    "mon_set.remove(3)  # mon_set devient {1, 2, 4, 5, 6}\n",
    "\n",
    "# Vérifier la présence d'un élément\n",
    "est_present = 4 in mon_set  # True\n",
    "\n",
    "# Union de deux sets\n",
    "autre_set = {5, 6, 7, 8}\n",
    "union_set = mon_set.union(autre_set)  # {1, 2, 4, 5, 6, 7, 8}\n",
    "\n",
    "# Intersection de deux sets\n",
    "intersection_set = mon_set.intersection(autre_set)  # {5, 6}\n",
    "\n",
    "# Différence entre deux sets\n",
    "difference_set = mon_set.difference(autre_set)  # {1, 2, 4}"
   ]
  },
  {
   "cell_type": "markdown",
   "id": "2988807f",
   "metadata": {},
   "source": [
    "### Comparaison et synthèse"
   ]
  },
  {
   "cell_type": "markdown",
   "id": "a35cc25e",
   "metadata": {},
   "source": [
    "### Similitudes\n",
    "\n",
    "1. **Collections de données** :\n",
    "   - Les listes, tuples et sets permettent tous de stocker plusieurs éléments. Chaque élément peut être de n'importe quel type (entiers, chaînes, objets, etc.).\n",
    "\n",
    "2. **Types hétérogènes** :\n",
    "   - Ils peuvent contenir des éléments de différents types de données dans une seule collection, comme des entiers, des chaînes, et des objets.\n",
    "\n",
    "3. **Fonctions et méthodes communes** :\n",
    "   - Les trois types peuvent être parcourus avec des boucles `for`, être utilisés avec des fonctions intégrées comme `len()`, et peuvent être convertis d'un type à un autre (par exemple, convertir une liste en set avec `set(liste)`).\n",
    "\n",
    "### Différences\n",
    "\n",
    "| Caractéristique             | **List**                     | **Tuple**                     | **Set**                       |\n",
    "|-----------------------------|------------------------------|-------------------------------|-------------------------------|\n",
    "| **Définition**              | `[]` ou `list()`             | `()` ou `tuple()`             | `{}` ou `set()`               |\n",
    "| **Mutabilité**              | Mutable (modifiable)         | Immuable (non modifiable)     | Mutable (modifiable)          |\n",
    "| **Ordre**                   | Ordonnée                     | Ordonnée                      | Non ordonnée                  |\n",
    "| **Doublons**                | Autorisés                    | Autorisés                     | Non autorisés                 |\n",
    "| **Indexation**              | Oui                          | Oui                           | Non                           |\n",
    "| **Accès aux éléments**      | Par index (`ma_liste[0]`)    | Par index (`mon_tuple[0]`)    | Par itération                 |\n",
    "| **Utilisation typique**     | Séquence modifiable          | Séquence fixe/constante       | Opérations d'ensemble         |\n",
    "| **Méthodes spécifiques**    | `append()`, `extend()`, etc. | `count()`, `index()`          | `add()`, `remove()`, etc.     |\n",
    "\n",
    "### Détails sur chaque caractéristique\n",
    "\n",
    "1. **Mutabilité** :\n",
    "   - Les **listes** sont modifiables, ce qui signifie qu'on peut ajouter, supprimer ou modifier les éléments après leur création.\n",
    "   - Les **tuples** sont immuables, donc une fois créés, les éléments ne peuvent pas être modifiés.\n",
    "   - Les **sets** sont modifiables, mais comme ils ne sont pas ordonnés, les éléments ne peuvent pas être accessibles par index.\n",
    "\n",
    "2. **Ordre** :\n",
    "   - Les **listes** et les **tuples** conservent l'ordre d'insertion, permettant l'accès aux éléments par leur position.\n",
    "   - Les **sets** ne garantissent pas l'ordre, les éléments peuvent donc apparaître dans un ordre aléatoire lors de l'itération.\n",
    "\n",
    "3. **Doublons** :\n",
    "   - Les **listes** et les **tuples** peuvent contenir des éléments en double.\n",
    "   - Les **sets** ne peuvent contenir que des éléments uniques, les doublons sont automatiquement éliminés lors de l'ajout.\n",
    "\n",
    "4. **Indexation et accès aux éléments** :\n",
    "   - Les **listes** et les **tuples** permettent un accès aux éléments par index (par exemple, `ma_liste[0]` ou `mon_tuple[1]`).\n",
    "   - Les **sets**, étant non ordonnés, ne prennent pas en charge l'indexation directe.\n",
    "\n",
    "### Utilisations typiques\n",
    "\n",
    "- **Listes** : Idéales pour les collections de données qui peuvent changer au cours de l'exécution du programme (ajout, suppression ou modification d'éléments).\n",
    "- **Tuples** : Utilisés pour les données qui ne doivent pas changer, comme les coordonnées d'un point ou les éléments d'une clé dans un dictionnaire.\n",
    "- **Sets** : Parfaits pour les opérations d'ensemble comme l'union, l'intersection et la différence, ou pour tester l'appartenance rapide à un ensemble d'éléments uniques.\n",
    "\n",
    "Ces caractéristiques et différences font que chaque type a des utilisations spécifiques en fonction des besoins de manipulation des données dans un programme.\n"
   ]
  },
  {
   "cell_type": "markdown",
   "metadata": {},
   "source": [
    "#### <span style=\"color: green\">Exercice sur les listes</span>"
   ],
   "id": "dbe5d209cb067bb8"
  },
  {
   "cell_type": "markdown",
   "metadata": {},
   "source": [
    "Utilisez une liste pour stocker manuellement les notes de musique de base (do, ré, mi, fa, sol, la, si).\n",
    "Utilisez la fonction print() pour afficher :\n",
    "\n",
    "- la troisième note\n",
    "- la dernière note\n",
    "- les quatrième, cinquième, et sixième notes\n",
    "- toutes les notes sauf la première\n",
    "\n",
    "Conseil : n'oubliez pas que l'indexation des listes commence à 0, et que la valeur supérieure des slicing est exclue."
   ],
   "id": "8088b78213404f13"
  },
  {
   "cell_type": "code",
   "id": "d07a7306",
   "metadata": {
    "ExecuteTime": {
     "end_time": "2025-01-21T09:41:12.840914Z",
     "start_time": "2025-01-21T09:41:12.816516Z"
    }
   },
   "source": [
    "# votre code ici\n",
    "notes = ['do', 'ré', 'mi', 'fa', 'sol', 'la', 'si']\n",
    "\n",
    "print(notes[2])\n",
    "print(notes[-1])\n",
    "print(notes[3:6])\n",
    "print(notes[1:])"
   ],
   "outputs": [
    {
     "name": "stdout",
     "output_type": "stream",
     "text": [
      "mi\n",
      "si\n",
      "['fa', 'sol', 'la']\n",
      "['ré', 'mi', 'fa', 'sol', 'la', 'si']\n"
     ]
    }
   ],
   "execution_count": 20
  }
 ],
 "metadata": {
  "kernelspec": {
   "display_name": "Python 3",
   "language": "python",
   "name": "python3"
  },
  "language_info": {
   "codemirror_mode": {
    "name": "ipython",
    "version": 3
   },
   "file_extension": ".py",
   "mimetype": "text/x-python",
   "name": "python",
   "nbconvert_exporter": "python",
   "pygments_lexer": "ipython3",
   "version": "3.12.7"
  },
  "vscode": {
   "interpreter": {
    "hash": "369f2c481f4da34e4445cda3fffd2e751bd1c4d706f27375911949ba6bb62e1c"
   }
  }
 },
 "nbformat": 4,
 "nbformat_minor": 5
}
