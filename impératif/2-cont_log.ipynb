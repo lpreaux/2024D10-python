{
 "cells": [
  {
   "cell_type": "markdown",
   "metadata": {},
   "source": [
    "### Les contrôles logiques\n",
    "\n",
    "Appliqués à deux objets, les opérateurs de comparaison renvoient un bool."
   ],
   "id": "b5c1c40c2457bdc9"
  },
  {
   "cell_type": "markdown",
   "metadata": {},
   "source": [
    "- **==** égal et **!=** non-égal\n",
    "\n",
    "<span style=\"color: red\">/!\\ Ne pas confondre l'assignement de valeur \"**=**\" </span>"
   ],
   "id": "4d22f447f7e8457b"
  },
  {
   "cell_type": "code",
   "metadata": {
    "ExecuteTime": {
     "end_time": "2025-01-21T09:43:03.513596Z",
     "start_time": "2025-01-21T09:43:03.501460Z"
    }
   },
   "source": [
    "1 == 1 # renvoie Vrai (True)"
   ],
   "id": "c09177924e4f957a",
   "outputs": [
    {
     "data": {
      "text/plain": [
       "True"
      ]
     },
     "execution_count": 1,
     "metadata": {},
     "output_type": "execute_result"
    }
   ],
   "execution_count": 1
  },
  {
   "cell_type": "code",
   "metadata": {
    "ExecuteTime": {
     "end_time": "2025-01-21T09:43:04.663591Z",
     "start_time": "2025-01-21T09:43:04.657491Z"
    }
   },
   "source": [
    "1 == 3 # renvoie Faux (False)"
   ],
   "id": "6f9d166320d9f151",
   "outputs": [
    {
     "data": {
      "text/plain": [
       "False"
      ]
     },
     "execution_count": 2,
     "metadata": {},
     "output_type": "execute_result"
    }
   ],
   "execution_count": 2
  },
  {
   "cell_type": "code",
   "metadata": {
    "ExecuteTime": {
     "end_time": "2025-01-21T09:43:05.655607Z",
     "start_time": "2025-01-21T09:43:05.646755Z"
    }
   },
   "source": [
    "1 != 1"
   ],
   "id": "884fdbcc6b3a0d2e",
   "outputs": [
    {
     "data": {
      "text/plain": [
       "False"
      ]
     },
     "execution_count": 3,
     "metadata": {},
     "output_type": "execute_result"
    }
   ],
   "execution_count": 3
  },
  {
   "cell_type": "code",
   "metadata": {
    "ExecuteTime": {
     "end_time": "2025-01-21T09:43:06.682617Z",
     "start_time": "2025-01-21T09:43:06.674327Z"
    }
   },
   "source": [
    "1 != 3"
   ],
   "id": "2342ec8289d1eaad",
   "outputs": [
    {
     "data": {
      "text/plain": [
       "True"
      ]
     },
     "execution_count": 4,
     "metadata": {},
     "output_type": "execute_result"
    }
   ],
   "execution_count": 4
  },
  {
   "cell_type": "markdown",
   "metadata": {},
   "source": [
    "- **<** inférieur et **>** supérieur"
   ],
   "id": "72fca78b07af39d1"
  },
  {
   "cell_type": "code",
   "metadata": {
    "ExecuteTime": {
     "end_time": "2025-01-21T09:43:08.945709Z",
     "start_time": "2025-01-21T09:43:08.940702Z"
    }
   },
   "source": [
    "1 < 3"
   ],
   "id": "ce91ce0c59737514",
   "outputs": [
    {
     "data": {
      "text/plain": [
       "True"
      ]
     },
     "execution_count": 5,
     "metadata": {},
     "output_type": "execute_result"
    }
   ],
   "execution_count": 5
  },
  {
   "cell_type": "code",
   "metadata": {
    "ExecuteTime": {
     "end_time": "2025-01-21T09:43:10.440570Z",
     "start_time": "2025-01-21T09:43:10.433664Z"
    }
   },
   "source": [
    "1 < 1"
   ],
   "id": "90c6c06619dd76ee",
   "outputs": [
    {
     "data": {
      "text/plain": [
       "False"
      ]
     },
     "execution_count": 6,
     "metadata": {},
     "output_type": "execute_result"
    }
   ],
   "execution_count": 6
  },
  {
   "cell_type": "markdown",
   "metadata": {},
   "source": [
    "- **<=** inférieur ou égal et **>=** supérieur ou égal"
   ],
   "id": "4bc59d5762a27ea8"
  },
  {
   "cell_type": "code",
   "metadata": {
    "ExecuteTime": {
     "end_time": "2025-01-21T09:43:12.359683Z",
     "start_time": "2025-01-21T09:43:12.353316Z"
    }
   },
   "source": [
    "1 <= 3"
   ],
   "id": "5f6f8d6c3fa16626",
   "outputs": [
    {
     "data": {
      "text/plain": [
       "True"
      ]
     },
     "execution_count": 7,
     "metadata": {},
     "output_type": "execute_result"
    }
   ],
   "execution_count": 7
  },
  {
   "cell_type": "code",
   "metadata": {
    "ExecuteTime": {
     "end_time": "2025-01-21T09:43:13.683171Z",
     "start_time": "2025-01-21T09:43:13.676813Z"
    }
   },
   "source": [
    "1 <= 1"
   ],
   "id": "4e430a4b2ca7837b",
   "outputs": [
    {
     "data": {
      "text/plain": [
       "True"
      ]
     },
     "execution_count": 8,
     "metadata": {},
     "output_type": "execute_result"
    }
   ],
   "execution_count": 8
  },
  {
   "cell_type": "code",
   "metadata": {
    "ExecuteTime": {
     "end_time": "2025-01-21T09:43:14.816480Z",
     "start_time": "2025-01-21T09:43:14.810479Z"
    }
   },
   "source": [
    "1 <= 0"
   ],
   "id": "a022d4302e277834",
   "outputs": [
    {
     "data": {
      "text/plain": [
       "False"
      ]
     },
     "execution_count": 9,
     "metadata": {},
     "output_type": "execute_result"
    }
   ],
   "execution_count": 9
  },
  {
   "cell_type": "markdown",
   "metadata": {},
   "source": [
    "Les opérateurs de comparaisons peuvent être appliqués sur d'autres types que les types numériques :"
   ],
   "id": "8dce03fc194f8a9b"
  },
  {
   "cell_type": "code",
   "metadata": {
    "ExecuteTime": {
     "end_time": "2025-01-21T09:43:19.911345Z",
     "start_time": "2025-01-21T09:43:19.903962Z"
    }
   },
   "source": [
    "'abc' < 'abcd' # comparaison des longeurs"
   ],
   "id": "cd6bd87f2c686aea",
   "outputs": [
    {
     "data": {
      "text/plain": [
       "True"
      ]
     },
     "execution_count": 10,
     "metadata": {},
     "output_type": "execute_result"
    }
   ],
   "execution_count": 10
  },
  {
   "cell_type": "markdown",
   "metadata": {},
   "source": [
    "#### Opérateurs booléens\n",
    "Opérateurs booléens pour combiner des valeurs booléennes et ainsi ajouter une couche de logique.\n",
    "- **and**"
   ],
   "id": "d4c3b9ef33b4ef48"
  },
  {
   "cell_type": "code",
   "metadata": {
    "ExecuteTime": {
     "end_time": "2025-01-21T09:43:24.113458Z",
     "start_time": "2025-01-21T09:43:24.109250Z"
    }
   },
   "source": [
    "x = 3\n",
    "y = 4\n",
    "if x == 4 and y == 4:\n",
    "    print('x ET y sont égal à 4')"
   ],
   "id": "30bdb27930e426cc",
   "outputs": [],
   "execution_count": 11
  },
  {
   "cell_type": "code",
   "metadata": {
    "ExecuteTime": {
     "end_time": "2025-01-21T09:43:26.336474Z",
     "start_time": "2025-01-21T09:43:26.331337Z"
    }
   },
   "source": [
    "True and False"
   ],
   "id": "c83f2518e4d4ba4f",
   "outputs": [
    {
     "data": {
      "text/plain": [
       "False"
      ]
     },
     "execution_count": 12,
     "metadata": {},
     "output_type": "execute_result"
    }
   ],
   "execution_count": 12
  },
  {
   "cell_type": "code",
   "id": "19414712",
   "metadata": {
    "ExecuteTime": {
     "end_time": "2025-01-21T09:43:27.345710Z",
     "start_time": "2025-01-21T09:43:27.338868Z"
    }
   },
   "source": [
    "True and True"
   ],
   "outputs": [
    {
     "data": {
      "text/plain": [
       "True"
      ]
     },
     "execution_count": 13,
     "metadata": {},
     "output_type": "execute_result"
    }
   ],
   "execution_count": 13
  },
  {
   "cell_type": "markdown",
   "metadata": {},
   "source": [
    "- **or**"
   ],
   "id": "3d40c02b22dce04d"
  },
  {
   "cell_type": "code",
   "metadata": {
    "ExecuteTime": {
     "end_time": "2025-01-21T09:43:29.510511Z",
     "start_time": "2025-01-21T09:43:29.504665Z"
    }
   },
   "source": [
    "True or False"
   ],
   "id": "4a5607be57ce64fb",
   "outputs": [
    {
     "data": {
      "text/plain": [
       "True"
      ]
     },
     "execution_count": 14,
     "metadata": {},
     "output_type": "execute_result"
    }
   ],
   "execution_count": 14
  },
  {
   "cell_type": "markdown",
   "metadata": {},
   "source": [
    "- **not**"
   ],
   "id": "bd957b2ab5121baf"
  },
  {
   "cell_type": "code",
   "metadata": {
    "ExecuteTime": {
     "end_time": "2025-01-21T09:43:32.507886Z",
     "start_time": "2025-01-21T09:43:32.500107Z"
    }
   },
   "source": [
    "not True"
   ],
   "id": "26536a0d2305fdf6",
   "outputs": [
    {
     "data": {
      "text/plain": [
       "False"
      ]
     },
     "execution_count": 15,
     "metadata": {},
     "output_type": "execute_result"
    }
   ],
   "execution_count": 15
  },
  {
   "cell_type": "code",
   "metadata": {
    "ExecuteTime": {
     "end_time": "2025-01-21T09:43:37.993250Z",
     "start_time": "2025-01-21T09:43:37.987888Z"
    }
   },
   "source": [
    "not False"
   ],
   "id": "260882b475342a76",
   "outputs": [
    {
     "data": {
      "text/plain": [
       "True"
      ]
     },
     "execution_count": 16,
     "metadata": {},
     "output_type": "execute_result"
    }
   ],
   "execution_count": 16
  },
  {
   "cell_type": "markdown",
   "metadata": {},
   "source": [
    "Grâce à ces opérateurs booléens, il est possible de choisir d'exécuter différentes lignes de codes suivant les situations au sein de notre programme. L'un des exemples les plus simples est l'utilisation de if - else.\n",
    "\n",
    "if, else suit une condition logique\n",
    "\n",
    "SI (comparaison logique) action conditionnelle 1, SINON action\n",
    "\n",
    "if, elif, else suit une ou plusieurs condition logique\n",
    "\n",
    "SI (comparaison logique 1) action conditionnelle 1, OU SI (comparaison logique 2) action conditionnelle 2, SINON action\n",
    "\n",
    "Si le if est résolu, le elif et le else ne sont pas executer. Si le if n'est pas résolu, alors on teste la condition du elif. Si le elif est résolu, else n'est pas executé, sinon le else est executé.\n",
    "\n",
    "Vous pouvez intégré autant de elif que vous souhaitez. Ils sont alors tester dans l'ordre d'apparition."
   ],
   "id": "9d945173cefbb9ba"
  },
  {
   "cell_type": "code",
   "metadata": {
    "ExecuteTime": {
     "end_time": "2025-01-21T09:44:14.665463Z",
     "start_time": "2025-01-21T09:44:14.658306Z"
    }
   },
   "source": [
    "a = 3\n",
    "\n",
    "if a > 2:  # Evaluation du booleen (a > 2)\n",
    "    print(\"a est supérieur à 2 !\")\n",
    "else:\n",
    "    print(\"a n'est pas supérieur à 2 !\")\n",
    "    \n",
    "# dans cet exemple, la ligne de code du if est executée et la ligne de code du else n'est pas executée"
   ],
   "id": "6a7e4d93bbcd650b",
   "outputs": [
    {
     "name": "stdout",
     "output_type": "stream",
     "text": [
      "a est supérieur à 2 !\n"
     ]
    }
   ],
   "execution_count": 17
  },
  {
   "cell_type": "markdown",
   "metadata": {},
   "source": [
    "Essayez de modifier la valeur de **a** pour observer le comportement de l'extrait de code précédent.\n",
    "\n",
    "Comme énoné précedemment, if - else accepte aussi un troisième membre : elif. Il permet d'évaluer une deuxième condition, mais seulement dans le cas où la première condition n'est pas vraie."
   ],
   "id": "c6f9909b6e22b34a"
  },
  {
   "cell_type": "code",
   "metadata": {
    "ExecuteTime": {
     "end_time": "2025-01-21T09:44:19.478138Z",
     "start_time": "2025-01-21T09:44:19.470196Z"
    }
   },
   "source": [
    "a = 4\n",
    "\n",
    "if a < 3:\n",
    "    print (\"a est strictement inférieur à 3 !\")\n",
    "elif a == 3 :  # Cette condition n'est evaluee que si la premiere evaluation est fausse\n",
    "    print(\"a est égal à 3 !\")\n",
    "elif a < 6:\n",
    "    print(\"a est strictement inférieur à 6\")\n",
    "else :\n",
    "    print(\"a est supérieur ou égal à 6 !\")"
   ],
   "id": "b9702af6de5f4fe8",
   "outputs": [
    {
     "name": "stdout",
     "output_type": "stream",
     "text": [
      "a est strictement inférieur à 6\n"
     ]
    }
   ],
   "execution_count": 18
  },
  {
   "cell_type": "markdown",
   "metadata": {},
   "source": [
    "#### <span style=\"color: green\">Exercice sur les contrôleurs logiques</span>"
   ],
   "id": "ee34a2eeb3509d83"
  },
  {
   "cell_type": "markdown",
   "metadata": {},
   "source": [
    "Convertissez une température fournie en degrés Celsius ou Fahrenheit en l'autre unité.\n",
    "\n",
    "Dans la cellule ci-dessous, deux variables sont définies : \n",
    "- **temperature** qui contiendra un int (chiffre entier) représentant la température à convertir, et \n",
    "- **unit** qui contiendra l'unité de la température à convertir (\"C\", \"Celsius\", \"F\", \"Fahrenheit\" sont des valeurs possibles)\n",
    "\n",
    "Utilisez des contrôleurs logiques pour convertir ces variables dans la deuxième unité.\n",
    "\n",
    "L'équation de conversion est la suivante : $\\frac{C}{5} = \\frac{F-32}{9}$"
   ],
   "id": "a02f97e4f560c77a"
  },
  {
   "cell_type": "code",
   "id": "24912a15",
   "metadata": {
    "ExecuteTime": {
     "end_time": "2025-01-21T09:56:07.431301Z",
     "start_time": "2025-01-21T09:56:07.425299Z"
    }
   },
   "source": [
    "# votre code ici\n",
    "temperature = 100\n",
    "unit = 'F'\n",
    "\n",
    "if unit == 'C':\n",
    "    processed = temperature * 9 / 5 + 32\n",
    "    processed_unit = 'F'\n",
    "elif unit == 'F':\n",
    "    processed = (temperature - 32) / 9 * 5\n",
    "    processed_unit = 'C'\n",
    "\n",
    "print(str(processed) + ' ' + processed_unit)"
   ],
   "outputs": [
    {
     "name": "stdout",
     "output_type": "stream",
     "text": [
      "37.77777777777778 C\n"
     ]
    }
   ],
   "execution_count": 25
  }
 ],
 "metadata": {
  "kernelspec": {
   "display_name": "Python 3",
   "language": "python",
   "name": "python3"
  },
  "language_info": {
   "codemirror_mode": {
    "name": "ipython",
    "version": 3
   },
   "file_extension": ".py",
   "mimetype": "text/x-python",
   "name": "python",
   "nbconvert_exporter": "python",
   "pygments_lexer": "ipython3",
   "version": "3.10.9"
  },
  "vscode": {
   "interpreter": {
    "hash": "369f2c481f4da34e4445cda3fffd2e751bd1c4d706f27375911949ba6bb62e1c"
   }
  }
 },
 "nbformat": 4,
 "nbformat_minor": 5
}
