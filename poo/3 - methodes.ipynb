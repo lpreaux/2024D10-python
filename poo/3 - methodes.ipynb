{
 "cells": [
  {
   "cell_type": "markdown",
   "metadata": {},
   "source": [
    "# Programmation orientée objet (POO) en python"
   ],
   "id": "f0670801e9feb467"
  },
  {
   "cell_type": "markdown",
   "metadata": {},
   "source": [
    "## La notion de méthodes"
   ],
   "id": "26acd643f4c63c63"
  },
  {
   "cell_type": "markdown",
   "id": "747976f3",
   "metadata": {},
   "source": [
    "Une méthode représente l’action qu’un objet (une classe donc) peut exécuter. Elle prend la forme **d’une fonction**.\n",
    "\n",
    "Une classe peut contenir trois types principaux de méthodes : les **méthodes d'instance**, les **méthodes de classe**, et les **méthodes statiques**.\n",
    "\n",
    "Chacune de ces méthodes a **sa propre utilité** et son mode d'emploi spécifique au sein d'une classe."
   ]
  },
  {
   "cell_type": "markdown",
   "id": "f2a04505",
   "metadata": {},
   "source": [
    "### La méthode d'instance"
   ]
  },
  {
   "cell_type": "markdown",
   "id": "62cc9e3c",
   "metadata": {},
   "source": [
    "Les méthodes d'instance sont **les méthodes les plus communes** dans les classes Python.\n",
    "\n",
    "Elles prennent automatiquement **self** comme premier argument, qui représente **l'instance de la classe**.\n",
    "\n",
    "Les méthodes d'instance **peuvent accéder aux attributs et aux autres méthodes** de l'instance via **self**."
   ]
  },
  {
   "cell_type": "code",
   "execution_count": null,
   "id": "463bf2d8",
   "metadata": {},
   "outputs": [],
   "source": [
    "class Voiture:\n",
    "    def __init__(self):\n",
    "        self.marque = \"Seat\"\n",
    "        self.modele = \"Ibiza\"\n",
    "        self.nombre_km = 10000\n",
    "        self.details = {}\n",
    "\n",
    "    # méthode d'instance\n",
    "    def ajouter_trajet(self, km):\n",
    "        trajet_km = km\n",
    "        itineraire_detail = f\"Lyon -> Dijon avec {self.marque} {self.modele}\" # utilisation du self pour acceder aux attributs de la classe\n",
    "        trajet = {\n",
    "            \"detail_trajet\": itineraire_detail,\n",
    "            \"km\": trajet_km\n",
    "        }\n",
    "        return trajet"
   ]
  },
  {
   "cell_type": "code",
   "execution_count": null,
   "id": "c161cbf9",
   "metadata": {},
   "outputs": [],
   "source": [
    "seat = Voiture()\n",
    "trajet_effectue = seat.ajouter_trajet(km=200)\n",
    "print(trajet_effectue)"
   ]
  },
  {
   "cell_type": "markdown",
   "id": "540ac6e1",
   "metadata": {},
   "source": [
    "Par convention, les méthodes **utilisée en dehors de la classe sont déclarer comme des fonctions**.\n",
    "\n",
    "Au contraire, les méthodes utilisé à **l'interieur de classe seulement sont préfixées d'un \"_\"** pour la maintenabilité et la lisibilité du code.\n",
    "\n",
    "Voici un exemple"
   ]
  },
  {
   "cell_type": "code",
   "execution_count": null,
   "id": "4871e05f",
   "metadata": {},
   "outputs": [],
   "source": [
    "class Voiture:\n",
    "    def __init__(self):\n",
    "        self.marque = \"Seat\"\n",
    "        self.modele = \"Ibiza\"\n",
    "        self.nombre_km = 10000\n",
    "        self.details_last_trajet = {}\n",
    "\n",
    "    # méthode d'instance interne\n",
    "    def _initialiser_trajet(self, destination, nombre_km):\n",
    "        trajet_km = nombre_km\n",
    "        itineraire_detail = f\"{destination} avec {self.marque} {self.modele}\" # utilisation du self pour acceder aux attributs de la classe\n",
    "        trajet = {\n",
    "            \"detail_trajet\": itineraire_detail,\n",
    "            \"km\": trajet_km\n",
    "        }\n",
    "        return trajet\n",
    "    \n",
    "    # méthode d'instance normale\n",
    "    def ajouter_trajet(self, destination, nombre_km):\n",
    "        trajet = self._initialiser_trajet(destination=destination, nombre_km=nombre_km)\n",
    "        self.nombre_km = self.nombre_km + trajet['km'] # mise à jour de la variable d'attribut (j'ajoute les km parcourus)\n",
    "        self.details_last_trajet = trajet # mise à jour de la variable d'attribut (je met a jour le dictionnaire du dernier trajet)\n"
   ]
  },
  {
   "cell_type": "code",
   "execution_count": null,
   "id": "11e8bb13",
   "metadata": {},
   "outputs": [],
   "source": [
    "seat = Voiture()\n",
    "print(seat.__dict__) # méthode de base permettant d'afficher un dictionnaire des attributs d'une classe\n",
    "seat.ajouter_trajet(destination=\"Lyon -> Marseille\", nombre_km=350) # la méthode interne \"_initialiser_trajet\" est bien appelée\n",
    "print(seat.__dict__)\n",
    "seat.ajouter_trajet(destination=\"Marseille -> Nice\", nombre_km=200)\n",
    "print(seat.__dict__)"
   ]
  },
  {
   "cell_type": "markdown",
   "id": "4a318531",
   "metadata": {},
   "source": [
    "### La méthode de classe"
   ]
  },
  {
   "cell_type": "markdown",
   "id": "1689bdf7",
   "metadata": {},
   "source": [
    "Les méthodes de classe **affectent la classe dans son ensemble**.\n",
    "\n",
    "Elles prennent **cls** comme premier argument, qui représente la classe elle-même, **plutôt qu'une instance** de celle-ci.\n",
    "\n",
    "Pour déclarer une méthode de classe, on utilise le décorateur **@classmethod**.\n",
    "\n",
    "Les méthodes de classe sont souvent utilisées pour créer des instances de la classe de manière alternative ou **pour manipuler des attributs de classe** qui sont communs à toutes les instances."
   ]
  },
  {
   "cell_type": "code",
   "id": "9a56e97d",
   "metadata": {
    "ExecuteTime": {
     "end_time": "2025-01-22T13:36:09.535992Z",
     "start_time": "2025-01-22T13:36:09.523458Z"
    }
   },
   "source": [
    "class Voiture:\n",
    "    taux_de_tva = 1.2  # attribut de classe\n",
    "\n",
    "    def __init__(self, prix_ht):\n",
    "        self.prix_ht = prix_ht # attribut de chaque instance de la classe\n",
    "\n",
    "    # méthode de classe\n",
    "    @classmethod\n",
    "    def change_tva(cls, new_taux):\n",
    "        cls.taux_de_tva = new_taux\n",
    "        return cls\n",
    "\n",
    "    # méthode d'instance pour afficher le prix HT\n",
    "    def afficher_prix_ttc(self):\n",
    "        return f\"Prix TTC : {self.prix_ht * self.taux_de_tva}\""
   ],
   "outputs": [],
   "execution_count": 1
  },
  {
   "cell_type": "code",
   "id": "a364c988",
   "metadata": {
    "ExecuteTime": {
     "end_time": "2025-01-22T13:36:10.001354Z",
     "start_time": "2025-01-22T13:36:09.985632Z"
    }
   },
   "source": [
    "seat = Voiture(prix_ht=10000)\n",
    "mercedes = Voiture(prix_ht=30000)\n",
    "print(seat.afficher_prix_ttc())\n",
    "print(mercedes.afficher_prix_ttc())\n",
    "print('_______________')\n",
    "# utilisation méthode de classe -> changer l'attribut de classe = répercution sur toutes les instances\n",
    "seat.change_tva(new_taux=1.3)\n",
    "print(seat.afficher_prix_ttc())\n",
    "print(mercedes.afficher_prix_ttc())\n",
    "print('_______________')\n",
    "# je change un attribut d'une seule instance = pas de répercution sur l'ensemble des instance\n",
    "seat.prix_ht = 12000\n",
    "print(seat.afficher_prix_ttc())\n",
    "print(mercedes.afficher_prix_ttc())"
   ],
   "outputs": [
    {
     "name": "stdout",
     "output_type": "stream",
     "text": [
      "Prix TTC : 12000.0\n",
      "Prix TTC : 36000.0\n",
      "_______________\n",
      "Prix TTC : 13000.0\n",
      "Prix TTC : 39000.0\n",
      "_______________\n",
      "Prix TTC : 15600.0\n",
      "Prix TTC : 39000.0\n"
     ]
    }
   ],
   "execution_count": 2
  },
  {
   "cell_type": "markdown",
   "id": "940edbf9",
   "metadata": {},
   "source": [
    "### La méthode statique"
   ]
  },
  {
   "cell_type": "markdown",
   "id": "9e35b36f",
   "metadata": {},
   "source": [
    "Les méthodes statiques, définies avec le décorateur **@staticmethod**, ne prennent ni self ni cls comme premier argument.\n",
    "\n",
    "Elles sont comme des fonctions normales mais **appartiennent au namespace de la classe**. Elles ne peuvent **accéder ni modifier l'état de la classe ou de ses instances**.\n",
    "\n",
    "Elles sont utilisées pour **des opérations qui ne nécessitent pas** l'accès aux attributs ou méthodes de la classe ou de ses instances."
   ]
  },
  {
   "cell_type": "code",
   "execution_count": null,
   "id": "8208b9ad",
   "metadata": {},
   "outputs": [],
   "source": [
    "class Voiture:\n",
    "\n",
    "    def __init__(self):\n",
    "        self.marque = \"Seat\"\n",
    "    \n",
    "    # méthode statique (possible del'utiliser dans un constructeur, comme les autres méthodes)\n",
    "    @staticmethod\n",
    "    def calculer_prix_ttc(prix_ht, taux_de_tva=1.2, reduction=0.1):\n",
    "        total = prix_ht * taux_de_tva\n",
    "        prix_final = total * (1-reduction)\n",
    "        return prix_final\n"
   ]
  },
  {
   "cell_type": "code",
   "execution_count": null,
   "id": "82d16be9",
   "metadata": {},
   "outputs": [],
   "source": [
    "seat = Voiture()\n",
    "print(seat.calculer_prix_ttc(prix_ht=10000))"
   ]
  },
  {
   "cell_type": "markdown",
   "id": "86ea9c7e",
   "metadata": {},
   "source": [
    "### Les méthodes spéciales ou méthode magique"
   ]
  },
  {
   "cell_type": "markdown",
   "id": "f35b96a0",
   "metadata": {},
   "source": [
    "__ init __\n",
    "\n",
    "Cette méthode est appelée lors de la création d'une nouvelle instance de la classe. Elle est souvent utilisée pour initialiser les attributs de l'instance."
   ]
  },
  {
   "cell_type": "code",
   "execution_count": null,
   "id": "414f2b92",
   "metadata": {},
   "outputs": [],
   "source": [
    "class Voiture:\n",
    "    def __init__(self, marque, modele):\n",
    "        self.marque = marque\n",
    "        self.modele = modele"
   ]
  },
  {
   "cell_type": "markdown",
   "id": "c7dea7b1",
   "metadata": {},
   "source": [
    "__ str __\n",
    "\n",
    "Retourne la représentation en chaîne de caractères de l'objet, utile pour l'affichage (print) ."
   ]
  },
  {
   "cell_type": "code",
   "execution_count": null,
   "id": "0cfd873c",
   "metadata": {},
   "outputs": [],
   "source": [
    "class Voiture:\n",
    "    def __init__(self, marque, modele):\n",
    "        self.marque = marque\n",
    "        self.modele = modele\n",
    "        \n",
    "    def __str__(self):\n",
    "        return f\"{self.marque} {self.modele}\""
   ]
  },
  {
   "cell_type": "markdown",
   "id": "5957679f",
   "metadata": {},
   "source": [
    "__ repr __\n",
    "\n",
    "Retourne la représentation officielle de l'objet, utile pour le débogage et le logging."
   ]
  },
  {
   "cell_type": "code",
   "execution_count": null,
   "id": "81312293",
   "metadata": {},
   "outputs": [],
   "source": [
    "class Voiture:\n",
    "    def __init__(self, marque, modele):\n",
    "        self.marque = marque\n",
    "        self.modele = modele\n",
    "        \n",
    "    def __repr__(self):\n",
    "        return f\"Voiture('{self.marque}', '{self.modele}')\""
   ]
  },
  {
   "cell_type": "markdown",
   "id": "148b60c4",
   "metadata": {},
   "source": [
    "__ eq __(self, other)\n",
    "\n",
    "Permet la comparaison d'égalité entre deux instances de la classe."
   ]
  },
  {
   "cell_type": "code",
   "execution_count": null,
   "id": "4d40a5e7",
   "metadata": {},
   "outputs": [],
   "source": [
    "class Voiture:\n",
    "    def __init__(self, marque, modele):\n",
    "        self.marque = marque\n",
    "        self.modele = modele\n",
    "        \n",
    "    def __eq__(self, other):\n",
    "        return self.marque == other.marque and self.modele == other.modele"
   ]
  },
  {
   "cell_type": "markdown",
   "id": "1ea717f0",
   "metadata": {},
   "source": [
    "__ add __(self, other)\n",
    "\n",
    "Permet de définir le comportement de l'opérateur + pour les instances de la classe."
   ]
  },
  {
   "cell_type": "code",
   "execution_count": null,
   "id": "a63bbc10",
   "metadata": {},
   "outputs": [],
   "source": [
    "class Vecteur:\n",
    "    def __init__(self, x, y):\n",
    "        self.x = x\n",
    "        self.y = y\n",
    "        \n",
    "    def __add__(self, autre):\n",
    "        return Vecteur(self.x + autre.x, self.y + autre.y)"
   ]
  },
  {
   "cell_type": "markdown",
   "id": "6031a790",
   "metadata": {},
   "source": [
    "__ len __(self)\n",
    "\n",
    "Permet de définir le comportement de la fonction len() pour les instances de la classe."
   ]
  },
  {
   "cell_type": "code",
   "execution_count": null,
   "id": "1c0fbb47",
   "metadata": {},
   "outputs": [],
   "source": [
    "class Collection:\n",
    "    def __init__(self, elements):\n",
    "        self.elements = elements\n",
    "        \n",
    "    def __len__(self):\n",
    "        return len(self.elements)"
   ]
  },
  {
   "cell_type": "markdown",
   "id": "aa6f0a7f",
   "metadata": {},
   "source": [
    "#### <span style=\"color: green\">Exercice sur les méthodes</span>"
   ]
  },
  {
   "cell_type": "markdown",
   "id": "59c48b28",
   "metadata": {},
   "source": [
    "**Partie 1 : Définir la classe Voiture**\n",
    "\n",
    "Définissez une classe Voiture avec les attributs suivants :\n",
    "\n",
    "- marque (ex : \"Peugeot\")\n",
    "\n",
    "- modele (ex : \"508\")\n",
    "\n",
    "- prix (en euros)\n",
    "\n",
    "Ajoutez une méthode __str__ pour afficher une voiture sous la forme : \"Marque: {marque}, Modèle: {modele}, Prix: {prix}€\".\n",
    "\n",
    "**Partie 2 : Créer la classe Garage**\n",
    "\n",
    "Définissez une classe Garage qui peut contenir plusieurs voitures.\n",
    "\n",
    "- Utilisez une liste pour stocker les instances de Voiture dans le garage dans un attribut.\n",
    "\n",
    "- Ajoutez une méthode ajouter_voiture pour ajouter une nouvelle voiture dans le garage.\n",
    "\n",
    "- Ajoutez une méthode lister_voitures qui imprime toutes les voitures dans le garage. Utilisez la méthode __str__ de la classe Voiture.\n",
    "\n",
    "- Ajoutez une méthode statique calculer_valeur_totale qui calcule la valeur totale des voitures dans le garage.\n",
    "\n",
    "**Partie 3 : Utiliser les classes**\n",
    "\n",
    "- Créez plusieurs instances de la classe Voiture.\n",
    "\n",
    "- Créez une instance de la classe Garage.\n",
    "\n",
    "- Ajoutez vos voitures dans le garage.\n",
    "\n",
    "- Listez toutes les voitures dans le garage.\n",
    "\n",
    "- Calculez et affichez la valeur totale des voitures dans le garage de deux manières différentes: avec une méthode d'instance et une méthode statiqu\n",
    "\n",
    "**Bonus**\n",
    "\n",
    "Si vous voulez aller plus loin, vous pouvez ajouter des fonctionnalités supplémentaires à votre programme, telles que la suppression d'une voiture du garage, ou la recherche d'une voiture par marque ou modèle."
   ]
  },
  {
   "cell_type": "code",
   "id": "6f95bb3e",
   "metadata": {
    "ExecuteTime": {
     "end_time": "2025-01-22T13:52:50.747703Z",
     "start_time": "2025-01-22T13:52:50.735661Z"
    }
   },
   "source": [
    "# votre code ici\n",
    "class Voiture:\n",
    "    def __init__(self, marque: str, modele: str, prix: float):\n",
    "        self.marque = marque\n",
    "        self.modele = modele\n",
    "        self.prix = prix\n",
    "\n",
    "    def __str__(self):\n",
    "        return f\"Marque: {self.marque}, Modèle: {self.modele}, Prix: {self.prix}\""
   ],
   "outputs": [],
   "execution_count": 8
  },
  {
   "cell_type": "code",
   "id": "be21e09a",
   "metadata": {
    "ExecuteTime": {
     "end_time": "2025-01-22T13:55:48.003649Z",
     "start_time": "2025-01-22T13:55:47.995033Z"
    }
   },
   "source": [
    "# votre code ici\n",
    "class Garage:\n",
    "    def __init__(self, voitures: [] = None):\n",
    "        if voitures is None:\n",
    "            voitures = []\n",
    "        self.voitures = voitures\n",
    "\n",
    "    def ajouter_voiture(self, voiture: Voiture):\n",
    "        self.voitures.append(voiture)\n",
    "\n",
    "    def lister_voitures(self):\n",
    "        for voiture in self.voitures:\n",
    "            print(f\"- {voiture}\")\n",
    "\n",
    "    @staticmethod\n",
    "    def calculer_valeur_totale(voitures: []):\n",
    "        somme = 0\n",
    "        for voiture in voitures:\n",
    "            somme += voiture.prix\n",
    "        return somme\n"
   ],
   "outputs": [],
   "execution_count": 12
  },
  {
   "cell_type": "code",
   "id": "e09baf92",
   "metadata": {
    "ExecuteTime": {
     "end_time": "2025-01-22T13:55:49.526524Z",
     "start_time": "2025-01-22T13:55:49.513693Z"
    }
   },
   "source": [
    "# votre code ici\n",
    "seat = Voiture(\"Seat\", 'Ibiza', 20000)\n",
    "peugeot = Voiture(\"Peugeot\", '208', 15000)\n",
    "mercedes = Voiture(\"Mercedes\", 'benz', 30000)\n",
    "\n",
    "garage = Garage(voitures=[seat, peugeot, mercedes])\n",
    "\n",
    "garage.lister_voitures()\n",
    "print(garage.calculer_valeur_totale(garage.voitures))"
   ],
   "outputs": [
    {
     "name": "stdout",
     "output_type": "stream",
     "text": [
      "- Marque: Seat, Modèle: Ibiza, Prix: 20000\n",
      "- Marque: Peugeot, Modèle: 208, Prix: 15000\n",
      "- Marque: Mercedes, Modèle: benz, Prix: 30000\n",
      "65000\n"
     ]
    }
   ],
   "execution_count": 13
  },
  {
   "cell_type": "code",
   "execution_count": null,
   "id": "2eba1c21",
   "metadata": {},
   "outputs": [],
   "source": [
    "# votre code ici"
   ]
  },
  {
   "cell_type": "code",
   "execution_count": null,
   "id": "7eab8618",
   "metadata": {},
   "outputs": [],
   "source": [
    "# votre code ici"
   ]
  }
 ],
 "metadata": {
  "kernelspec": {
   "display_name": "Python 3",
   "language": "python",
   "name": "python3"
  },
  "language_info": {
   "codemirror_mode": {
    "name": "ipython",
    "version": 3
   },
   "file_extension": ".py",
   "mimetype": "text/x-python",
   "name": "python",
   "nbconvert_exporter": "python",
   "pygments_lexer": "ipython3",
   "version": "3.12.7"
  },
  "vscode": {
   "interpreter": {
    "hash": "369f2c481f4da34e4445cda3fffd2e751bd1c4d706f27375911949ba6bb62e1c"
   }
  }
 },
 "nbformat": 4,
 "nbformat_minor": 5
}
