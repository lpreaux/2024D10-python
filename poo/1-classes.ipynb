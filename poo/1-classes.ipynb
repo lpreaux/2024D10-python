{
 "cells": [
  {
   "cell_type": "markdown",
   "metadata": {},
   "source": [
    "# Programmation orientée objet (POO) en python"
   ],
   "id": "7754397e849875e9"
  },
  {
   "cell_type": "markdown",
   "metadata": {},
   "source": [
    "## La notion de classe"
   ],
   "id": "bb3c598423b6ef93"
  },
  {
   "cell_type": "markdown",
   "id": "747976f3",
   "metadata": {},
   "source": [
    "Une classe est le squelette d’un objet. Elle définit l’objet grâce à **un constructeur** et **contient une liste d’attributs et de méthodes qui lui sont propres**.\n",
    "\n",
    "Une classe est donc un objet, qui peut contenir d'autres objets, variables etc"
   ]
  },
  {
   "cell_type": "markdown",
   "id": "0330bb01",
   "metadata": {},
   "source": [
    "## Construire une classe"
   ]
  },
  {
   "cell_type": "markdown",
   "id": "302687ed",
   "metadata": {},
   "source": [
    "C'est partie, construisons notre première classe avec le constructeur.\n",
    "\n",
    "Cette classe sera un objet représentant un Sportif."
   ]
  },
  {
   "cell_type": "code",
   "execution_count": null,
   "id": "21525588",
   "metadata": {},
   "outputs": [],
   "source": [
    "class Sportif: # definition de la classe\n",
    "\n",
    "    def __init__(self): # constructeur\n",
    "        print('construit') # pass est un mot clef en python signifiant \"ne rien faire\""
   ]
  },
  {
   "cell_type": "markdown",
   "id": "4311edcc",
   "metadata": {},
   "source": [
    "Le self reçu en premier paramètre d’une méthode corresponde à l’objet sur lequel on applique une méthode.\n",
    "\n",
    "Lors du constructeur, self correspond à lui même, c'est le constructeur de la classe.\n",
    "\n",
    "**self**, qu'on expliquera plus amplement par la suite, est un mot clef conventionnel. Il peut être remplacer par nimporte quelle autre mot, mais nous utiliserons \"self\" car c'est le mot clef conventionnel du language python"
   ]
  },
  {
   "cell_type": "markdown",
   "id": "b7345763",
   "metadata": {},
   "source": [
    "## Instancier une classe"
   ]
  },
  {
   "cell_type": "markdown",
   "id": "4a739f02",
   "metadata": {},
   "source": [
    "Une classe est instanciée en **la suffixant de parenthèses ()**.\n",
    "\n",
    "Elle doit en amont être construite, à partir d'un **constructeur**.\n",
    "\n",
    "Le **constructeur** est une fonction spéciale, appelé **fonction d'initialisation**."
   ]
  },
  {
   "cell_type": "code",
   "execution_count": null,
   "id": "40dc8ad8",
   "metadata": {},
   "outputs": [],
   "source": [
    "sportif = Sportif() # j'utilise les parenthèse pour instancier"
   ]
  },
  {
   "cell_type": "code",
   "execution_count": null,
   "id": "9f811230",
   "metadata": {},
   "outputs": [],
   "source": [
    "print(sportif) # j'affiche mon objet"
   ]
  },
  {
   "cell_type": "markdown",
   "id": "4c18f7e0",
   "metadata": {},
   "source": [
    "Lorsue j'affiche mon objet avec la fonction print, je vois un **numéro de référence de l'objet**. C'est important.\n",
    "\n",
    "Pourquoi ? car chaque variable que j'instancie avec ma classe \"Sportif\" sera **indépendante**, et pourra donc être **modifiée, utilisée independemment des autres instance** de cette même classe.\n",
    "\n",
    "Pour confirmer cela, instancions **plusieurs objets** (variable donc) de ma classe Sportif."
   ]
  },
  {
   "cell_type": "code",
   "execution_count": null,
   "id": "054f6820",
   "metadata": {},
   "outputs": [],
   "source": [
    "sportif_1 = Sportif()\n",
    "sportif_2 = Sportif()\n",
    "sportif_3 = Sportif()"
   ]
  },
  {
   "cell_type": "code",
   "execution_count": null,
   "id": "11e1bb56",
   "metadata": {},
   "outputs": [],
   "source": [
    "print(sportif_1)\n",
    "print(sportif_2)\n",
    "print(sportif_3)"
   ]
  },
  {
   "cell_type": "markdown",
   "id": "8af6fee1",
   "metadata": {},
   "source": [
    "Comme vous pouvez le voir ci-dessus, les **numéros d'instance sont différents**.\n",
    "\n",
    "Les premiers numéro sont identiques, correspondant à la classe. Ici, la même classe \"Sportif\".\n",
    "\n",
    "Cependant, les **dernier numéros sont différents**, car **chaque variable est différents et possède son propre cycle de vie**."
   ]
  },
  {
   "cell_type": "markdown",
   "id": "7ccf0cd5",
   "metadata": {},
   "source": [
    "## La fonction __ str __ de la classe"
   ]
  },
  {
   "cell_type": "markdown",
   "id": "f5b5673d",
   "metadata": {},
   "source": [
    "La fonction __ str __ est une méthode spéciale comme le constructeur.\n",
    "\n",
    "C'est la méthode qui est appellée lorsque vous utiliser print().\n",
    "\n",
    "Une méthode est une fonction à l'interieur d'une classe.\n",
    "\n",
    "En ré-écrivant la méthode __ str __, nous allons l'overwrite, et donc remplacer la sortie du print() pour notre classe."
   ]
  },
  {
   "cell_type": "code",
   "execution_count": null,
   "id": "404cf1c8",
   "metadata": {},
   "outputs": [],
   "source": [
    "class Sportif:\n",
    "\n",
    "    def __init__(self) -> None: # -> None est la façon de typer des fonctions/méthode. La fleche renvoie le type attendu.\n",
    "        pass\n",
    "\n",
    "    def __str__(self) -> str: # -> str est la façon de typer des fonctions/méthode. La fleche renvoie le type attendu. Ici, une chaine de caractère\n",
    "        return f\"Ceci est un sportif\" # le \"f\" permet d'ajouter du format plus tard, Ici, c'est inutil mais nous nous en serviront plus tard"
   ]
  },
  {
   "cell_type": "code",
   "execution_count": null,
   "id": "98280c11",
   "metadata": {},
   "outputs": [],
   "source": [
    "sportif = Sportif()\n",
    "print(sportif)"
   ]
  },
  {
   "cell_type": "markdown",
   "id": "16b83b3e",
   "metadata": {},
   "source": [
    "La méthode __ str __ est un moyen de representer sa classe, comme la méthode __ repr __ que nous ne verront pas ici."
   ]
  },
  {
   "cell_type": "markdown",
   "id": "161e4944",
   "metadata": {},
   "source": [
    "#### <span style=\"color: green\">Exercice sur les classes</span>"
   ]
  },
  {
   "cell_type": "markdown",
   "id": "6421b1ce",
   "metadata": {},
   "source": [
    "Créer une classe \"Voiture\" et:\n",
    "\n",
    "- Définir son constructeur __ init __\n",
    "\n",
    "- Définir sa méthode __ str __ et renvoyé la chaine de caractère \"La voiture roule\"\n",
    "\n",
    "- Afficher votre variable"
   ]
  },
  {
   "cell_type": "code",
   "id": "cc5e2531",
   "metadata": {
    "ExecuteTime": {
     "end_time": "2025-01-22T11:16:20.533975Z",
     "start_time": "2025-01-22T11:16:20.515885Z"
    }
   },
   "source": [
    "# votre code ici\n",
    "class Voiture:\n",
    "    def __init__(self) -> None:\n",
    "        pass\n",
    "\n",
    "    def __str__(self) -> str:\n",
    "        return f\"La voiture roule\""
   ],
   "outputs": [],
   "execution_count": 1
  },
  {
   "cell_type": "code",
   "id": "8e329e8b",
   "metadata": {
    "ExecuteTime": {
     "end_time": "2025-01-22T11:16:20.640993Z",
     "start_time": "2025-01-22T11:16:20.613810Z"
    }
   },
   "source": [
    "# votre code ici\n",
    "voiture = Voiture()\n",
    "print(voiture)"
   ],
   "outputs": [
    {
     "name": "stdout",
     "output_type": "stream",
     "text": [
      "La voiture roule\n"
     ]
    }
   ],
   "execution_count": 2
  }
 ],
 "metadata": {
  "kernelspec": {
   "display_name": "Python 3",
   "language": "python",
   "name": "python3"
  },
  "language_info": {
   "codemirror_mode": {
    "name": "ipython",
    "version": 3
   },
   "file_extension": ".py",
   "mimetype": "text/x-python",
   "name": "python",
   "nbconvert_exporter": "python",
   "pygments_lexer": "ipython3",
   "version": "3.12.7"
  },
  "vscode": {
   "interpreter": {
    "hash": "369f2c481f4da34e4445cda3fffd2e751bd1c4d706f27375911949ba6bb62e1c"
   }
  }
 },
 "nbformat": 4,
 "nbformat_minor": 5
}
