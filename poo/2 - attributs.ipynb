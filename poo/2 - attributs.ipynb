{
 "cells": [
  {
   "cell_type": "markdown",
   "metadata": {},
   "source": [
    "# Programmation orientée objet (POO) en python"
   ],
   "id": "c8d32e3f69f3864e"
  },
  {
   "cell_type": "markdown",
   "metadata": {},
   "source": [
    "## La notion d'attribut"
   ],
   "id": "1a2da4ac8cc83c88"
  },
  {
   "cell_type": "markdown",
   "id": "747976f3",
   "metadata": {},
   "source": [
    "Un objet peut être constitué d’attributs: Ce sont les valeurs spécifiques propre à l’objet !\n",
    "\n",
    "Nous pouvons **définir initialement** les attributs d’un objet avec son constructeur.\n",
    "\n",
    "Nous pouvons **attribuer** de nouveau attributs à un objet\n",
    "\n",
    "Nous pouvons **redéfinir** un attribut\n",
    "\n",
    "Nous pouvons **supprimer** un attribut"
   ]
  },
  {
   "cell_type": "markdown",
   "id": "62cc9e3c",
   "metadata": {},
   "source": [
    "L'attribut représente donc une caractéristique d'un objet et prend la forme **d'une variable**.\n",
    "\n",
    "Vous pouvez **stocker nimporte que type de variable** dans un attribut, et le faire fluctuer tout au long du cycle de vie de l'instance, voici toute la puissance de la POO !!\n",
    "\n",
    "Reprenons notre classe Sportifet ajoutons y des **attributs**."
   ]
  },
  {
   "cell_type": "markdown",
   "id": "0330bb01",
   "metadata": {},
   "source": [
    "## Construire une classe avec des attributs"
   ]
  },
  {
   "cell_type": "markdown",
   "id": "df547e31",
   "metadata": {},
   "source": [
    "Dans le constructeur, vous pouvez définir des **paramètre supplémentaires** pour les **utiliser comme des attributs**.\n",
    "\n",
    "Si vous définissez des **paramètre supplémentaires**, il faudra les spécifier lors de **l'instanciation de la classe**, car ils sont utiliser dans le constructeur (la méthode __ init __)\n",
    "\n",
    "Avant de définir un attribut, je le précède du mot clef **self**"
   ]
  },
  {
   "cell_type": "code",
   "execution_count": null,
   "id": "21525588",
   "metadata": {},
   "outputs": [],
   "source": [
    "class Sportif:\n",
    "\n",
    "    def __init__(self, prenom, sport=None): # un paramètre obligatoire 'prenom' et un paramètre facultatif 'sport' définit par default sur None (= valeur nule)\n",
    "        self.prenom = prenom # j'utilise le paramètre 'prenom' pour définir mon attribut 'prenom'\n",
    "        self.sport_pratique = sport # j'utilise le paramètre 'sport' pour définir mon attribut appelé 'sport_pratique'. Si 'sport' n'est pas précisé, l'attribut prendra la valeur par default du paramètre qui est None\n",
    "        self.blesse = False # je definis un attribut 'blesse' à False pas default"
   ]
  },
  {
   "cell_type": "markdown",
   "id": "4311edcc",
   "metadata": {},
   "source": [
    "Pour résumé cette classe, lorsque j'instancie cet objet j'aurais un objet (une variable) qui:\n",
    "\n",
    "- aura obligatoirement un prénom que je devrais donnée lors de l'instanciation\n",
    "\n",
    "- aura obligatoirement un sport pratiqué: soit que j'aurais précisé, soit qui sera définit sur None par default\n",
    "\n",
    "- aura obligatoirement un statut blessé qui sera définit sur False par default (non blessé)"
   ]
  },
  {
   "cell_type": "code",
   "execution_count": null,
   "id": "bef4706a",
   "metadata": {},
   "outputs": [],
   "source": [
    "# je declare une variable explicite\n",
    "bastien = Sportif(prenom=\"Bastien\", sport=\"Football\")"
   ]
  },
  {
   "cell_type": "markdown",
   "id": "464e669e",
   "metadata": {},
   "source": [
    "## Acceder a un attribut"
   ]
  },
  {
   "cell_type": "markdown",
   "id": "6e997374",
   "metadata": {},
   "source": [
    "Vous pouvez acceder à l'attribut avec le **.** + **nom de l'attribut** pour l'afficher, le modifier, le supprimer etc"
   ]
  },
  {
   "cell_type": "code",
   "execution_count": null,
   "id": "dc7e7c72",
   "metadata": {},
   "outputs": [],
   "source": [
    "print(bastien.prenom) # j'affiche le prenom\n",
    "print(bastien.blesse) # j'affiche si le joueur est blessé\n",
    "print(bastien.sport_pratique) # j'affiche le sport pratiqué"
   ]
  },
  {
   "cell_type": "markdown",
   "id": "52270d94",
   "metadata": {},
   "source": [
    "## Modifier un attribut"
   ]
  },
  {
   "cell_type": "markdown",
   "id": "03b95de2",
   "metadata": {},
   "source": [
    "Pour **modifier un attribut**, vous avez simplement à **le réaffecter** avec la variable de votre choix"
   ]
  },
  {
   "cell_type": "code",
   "execution_count": null,
   "id": "7cfc727c",
   "metadata": {},
   "outputs": [],
   "source": [
    "print(\"Avant changement\", bastien.sport_pratique)\n",
    "bastien.sport_pratique = \"Natation\"\n",
    "print(\"Après changement\", bastien.sport_pratique)"
   ]
  },
  {
   "cell_type": "markdown",
   "id": "abe9ff15",
   "metadata": {},
   "source": [
    "## Supprimer un attribut"
   ]
  },
  {
   "cell_type": "markdown",
   "id": "3444acb8",
   "metadata": {},
   "source": [
    "Pour **supprimer un attribut**, vous pouvez utiliser delattr en spécifiant l'instance de la classe et l'attribut"
   ]
  },
  {
   "cell_type": "code",
   "execution_count": null,
   "id": "ac8618b7",
   "metadata": {},
   "outputs": [],
   "source": [
    "print(bastien.sport_pratique)"
   ]
  },
  {
   "cell_type": "code",
   "execution_count": null,
   "id": "30c3da5e",
   "metadata": {},
   "outputs": [],
   "source": [
    "delattr(bastien, 'sport_pratique')"
   ]
  },
  {
   "cell_type": "code",
   "execution_count": null,
   "id": "5526899f",
   "metadata": {},
   "outputs": [],
   "source": [
    "print(bastien.sport_pratique) # l'attribut n'existant plus, je vais avoir une erreur \"AttributeError\""
   ]
  },
  {
   "cell_type": "code",
   "execution_count": null,
   "id": "23c12440",
   "metadata": {},
   "outputs": [],
   "source": [
    "# exemple d'une gestion d'erreur\n",
    "try:\n",
    "    print(bastien.sport_pratique)\n",
    "except AttributeError as e:\n",
    "    bastien.sport_pratique = None"
   ]
  },
  {
   "cell_type": "code",
   "execution_count": null,
   "id": "3dabd51b",
   "metadata": {},
   "outputs": [],
   "source": [
    "print(bastien.sport_pratique)"
   ]
  },
  {
   "cell_type": "markdown",
   "id": "b7345763",
   "metadata": {},
   "source": [
    "## Type de variable dans les attributs"
   ]
  },
  {
   "cell_type": "markdown",
   "id": "4a739f02",
   "metadata": {},
   "source": [
    "Vous pouvez définir tout type de variable dans les attributs, et même intégrer des logiques plus complexe, des méthodes etc\n",
    "\n",
    "Essayons un exemple plus complexe"
   ]
  },
  {
   "cell_type": "code",
   "execution_count": null,
   "id": "40dc8ad8",
   "metadata": {},
   "outputs": [],
   "source": [
    "class Sportif:\n",
    "\n",
    "    def __init__(self, prenom: str, parcour: list[str]=[], postes: dict={}, sport :str=None): # je type mes paramètre pour voir les type attendus\n",
    "        self.prenom = prenom\n",
    "        self.sport_pratique = \"Non renseigné\" if sport == None else sport # si le sport n'est pas renseigné, je remplace par \"Non renseigné\" sinon j'utilise le paramètre sport\n",
    "        self.blesse = False\n",
    "        self.parcours_club = parcour\n",
    "        self.poste_occupe = postes\n",
    "\n",
    "    def __str__(self) -> str:\n",
    "        return f\"Sportif {self.prenom} a pratiqué le {self.sport_pratique} dans les clubs suivants: {', '.join(self.parcours_club)}\" # join permetde joindre tous les élément d'une liste par la chaine précédent join"
   ]
  },
  {
   "cell_type": "markdown",
   "id": "697c732f",
   "metadata": {},
   "source": [
    "Dans cette classe, j'attend:\n",
    "\n",
    "- un prenom obligatoire qui est une chaine de caractère\n",
    "\n",
    "- un parcours eventuel de club sous forme de liste de chaine de caractère (default liste vide [])\n",
    "\n",
    "- un poste eventuel de club sous forme de dictionnaire (default dictionnaire vide {})\n",
    "\n",
    "- un sport pratiqué eventuel sous forme de chaine de caractère (default None)"
   ]
  },
  {
   "cell_type": "code",
   "execution_count": null,
   "id": "19c96c93",
   "metadata": {},
   "outputs": [],
   "source": [
    "remi = Sportif(prenom=\"Remi\")\n",
    "print(remi)"
   ]
  },
  {
   "cell_type": "code",
   "execution_count": null,
   "id": "a2387ac4",
   "metadata": {},
   "outputs": [],
   "source": [
    "# les paramètres (de la classe Sportif) et les variables (définit ci-dessous)peuvent ou non avoir le même nom. Ce sont des instances différents, un pramètre n'est pas une variable\n",
    "parcours = ['Oyonnax', 'Cascol', 'Olympique Lyonnais', 'PSG handball']\n",
    "postes = {\n",
    "    \"2012\": \"Entraineur\",\n",
    "    \"2013\": \"Preparateur physique\",\n",
    "    \"2020\": \"Data scientist\"\n",
    "}\n",
    "sport = \"Football\"\n",
    "bastien = Sportif(\n",
    "    prenom=\"bastien\",\n",
    "    parcour=parcours,\n",
    "    postes=postes,\n",
    "    sport=sport\n",
    ")\n",
    "print(bastien)"
   ]
  },
  {
   "cell_type": "markdown",
   "id": "f8d24691",
   "metadata": {},
   "source": [
    "## Attributs magiques ou spéciaux"
   ]
  },
  {
   "cell_type": "markdown",
   "id": "64a1eae6",
   "metadata": {},
   "source": [
    "__ dict __\n",
    "\n",
    "L'attribut __dict__ est un dictionnaire contenant **tous les attributs et leurs valeurs** pour une instance de classe ou la classe elle-même.\n",
    "\n",
    "Il permet un **accès dynamique aux attributs d'un objet**. Cela peut être particulièrement utile pour **le débogage**, la **sérialisation** ou la **copie dynamique d'attributs**."
   ]
  },
  {
   "cell_type": "code",
   "execution_count": null,
   "id": "686b3d74",
   "metadata": {},
   "outputs": [],
   "source": [
    "bastien.__dict__"
   ]
  },
  {
   "cell_type": "markdown",
   "id": "4c18f7e0",
   "metadata": {},
   "source": [
    "#### <span style=\"color: green\">Exercice sur les attributs</span>"
   ]
  },
  {
   "cell_type": "markdown",
   "id": "c08a8d1c",
   "metadata": {},
   "source": [
    "Créer une classe \"Voiture\" qui contient les caractéristique suivante:\n",
    "\n",
    "- un attribut \"marque\" qui est une chaine de caractère précisant la marque de la voiture\n",
    "\n",
    "- un attribut nombre_km qui est un chiffre du nombre total de kilometre parcourue par la voiture et qui par default est à 10000\n",
    "\n",
    "- un attribut ct_is_ok qui par default est à True correspondant a la passation du controle technique\n",
    "\n",
    "- un attribut assurance qui est un dictionnaire des 5 dernières années d'assurance (ex: {\"2024\": \"MMA\", \"2023\": \"MAIF\"})\n",
    "\n",
    "- un attribut niveau d'essence qui est un pourcentage (en chiffre à virgule, donc entre 0 et 1) initialiser par default à 1 (qui corespondant au plein)\n",
    "\n",
    "- une méthode __ str __ permettant de savoir la marque de la voiture, le nombre de km effectués ainsi que s'il reste de l'essence ou non"
   ]
  },
  {
   "cell_type": "code",
   "id": "d8640a30",
   "metadata": {
    "ExecuteTime": {
     "end_time": "2025-01-22T11:45:59.037005Z",
     "start_time": "2025-01-22T11:45:59.020239Z"
    }
   },
   "source": [
    "# votre code ici\n",
    "class Voiture:\n",
    "    def __init__(self, marque: str, nombre_km: int = 10_000, ct_is_ok: bool = True, assurance: dict = (), remplissage_essence: float = 1):\n",
    "        self.marque = marque\n",
    "        self.nombre_km = nombre_km\n",
    "        self.ct_is_ok = ct_is_ok\n",
    "        self.assurance = assurance\n",
    "        self.remplissage_essence = remplissage_essence\n",
    "\n",
    "    def __str__(self) -> str:\n",
    "        return f\"Voiture de marque {self.marque} ayent roulé {self.nombre_km}. {self.string_essence()}\"\n",
    "\n",
    "    def string_essence(self):\n",
    "        if self.remplissage_essence > 0:\n",
    "            return \"Il reste de l'essence.\"\n",
    "        else:\n",
    "            return \"Le réservoir est vide\""
   ],
   "outputs": [],
   "execution_count": 1
  },
  {
   "cell_type": "markdown",
   "id": "a67432f0",
   "metadata": {},
   "source": [
    "Vous effectuer un trajet avec votre voiture.\n",
    "\n",
    "Ce trajet fait 250 km et vous enleve 30% de votre plein.\n",
    "\n",
    "Modifier les attribut de votre voiture en conséquence et afficher les informations de votre voiture avant et après le trajet"
   ]
  },
  {
   "cell_type": "code",
   "id": "9857dbba",
   "metadata": {
    "ExecuteTime": {
     "end_time": "2025-01-22T11:45:59.079340Z",
     "start_time": "2025-01-22T11:45:59.068497Z"
    }
   },
   "source": [
    "# votre code ici\n",
    "ma_voiture = Voiture(\"Peugeot\", 10000, True, {\"2024\": \"MMA\", \"2023\": \"MAIF\"})\n",
    "print(ma_voiture)\n",
    "\n",
    "ma_voiture.nombre_km += 250\n",
    "ma_voiture.remplissage_essence -= 0.3\n",
    "\n",
    "print(ma_voiture)\n"
   ],
   "outputs": [
    {
     "name": "stdout",
     "output_type": "stream",
     "text": [
      "Voiture de marque Peugeot ayent roulé 10000. Il reste de l'essence.\n",
      "Voiture de marque Peugeot ayent roulé 10250. Il reste de l'essence.\n"
     ]
    }
   ],
   "execution_count": 2
  },
  {
   "cell_type": "markdown",
   "id": "19c38f04",
   "metadata": {},
   "source": [
    "Vous avez un accident.\n",
    "\n",
    "Afficher la dernière assurance connue pour votre voiture (assurance de la dernière année)"
   ]
  },
  {
   "cell_type": "code",
   "id": "5459b8b1",
   "metadata": {
    "ExecuteTime": {
     "end_time": "2025-01-22T13:10:00.543111Z",
     "start_time": "2025-01-22T13:10:00.533801Z"
    }
   },
   "source": [
    "# votre code ici\n",
    "print(list(map(lambda item: item[1], sorted(ma_voiture.assurance.items(), reverse = True)))[0])"
   ],
   "outputs": [
    {
     "name": "stdout",
     "output_type": "stream",
     "text": [
      "MMA\n"
     ]
    }
   ],
   "execution_count": 14
  }
 ],
 "metadata": {
  "kernelspec": {
   "display_name": "Python 3",
   "language": "python",
   "name": "python3"
  },
  "language_info": {
   "codemirror_mode": {
    "name": "ipython",
    "version": 3
   },
   "file_extension": ".py",
   "mimetype": "text/x-python",
   "name": "python",
   "nbconvert_exporter": "python",
   "pygments_lexer": "ipython3",
   "version": "3.12.7"
  },
  "vscode": {
   "interpreter": {
    "hash": "369f2c481f4da34e4445cda3fffd2e751bd1c4d706f27375911949ba6bb62e1c"
   }
  }
 },
 "nbformat": 4,
 "nbformat_minor": 5
}
